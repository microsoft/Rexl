{
 "cells": [
  {
   "cell_type": "markdown",
   "id": "f7de148e-621f-4599-bea5-ae87232d69fe",
   "metadata": {},
   "source": [
    "# Implicit Lambdas (The Power of Comma)"
   ]
  },
  {
   "cell_type": "markdown",
   "id": "278ed7b3-1bd8-488d-9066-23ffceb6f539",
   "metadata": {},
   "source": [
    "The Rexl language shares some heritage and design with Power Fx, the language of Power Apps.\n",
    "\n",
    "Both grew from an effort circa 2010 to design a general expression language that would be suitable for\n",
    "interactive data exploration in a variety of host applications.\n",
    "\n",
    "The Excel formula language is the most broadly used expression language on planet Earth. While broadly used,\n",
    "it is tightly coupled to _grid addressing_ in a spread sheet. We operate with _named values_ instead."
   ]
  },
  {
   "cell_type": "markdown",
   "id": "b1785540-6c2b-4828-a01b-8c53f65ef627",
   "metadata": {},
   "source": [
    "## Table"
   ]
  },
  {
   "cell_type": "markdown",
   "id": "f77e38d7-20e7-44ea-9d4a-b699a2f51752",
   "metadata": {},
   "source": [
    "The Excel language does not directly support tables with values arranged in named columns.\n",
    "Instead it supports cell ranges. We directly support both record (a single row from a table)\n",
    "and table (sequence of record). A table column in Rexl is a natural analog of a range of cells\n",
    "in Excel."
   ]
  },
  {
   "cell_type": "markdown",
   "id": "8b9094ca-9d2e-44d9-9d18-3f1a2994e44f",
   "metadata": {},
   "source": [
    "We first import some customer order data to use for illustrations."
   ]
  },
  {
   "cell_type": "code",
   "execution_count": 1,
   "id": "b0794b1e-1b52-41bf-bb5e-00267e795ab9",
   "metadata": {},
   "outputs": [],
   "source": [
    "import \"../data/Orders.rexl\";"
   ]
  },
  {
   "cell_type": "code",
   "execution_count": 2,
   "id": "d1b9bbab-f94d-408c-94ee-77679a836a40",
   "metadata": {},
   "outputs": [
    {
     "data": {
      "text/html": [
       "<div><table><thead><tr><th>Variable</th><th>Type</th></tr></thead><tbody><tr><td>Orders</td><td>{Cid:s, Pid:s, Price:r8, Quantity:i8}*</td></tr></tbody></table></div>"
      ],
      "text/plain": [
       "Orders : {Cid:s, Pid:s, Price:r8, Quantity:i8}*"
      ]
     },
     "metadata": {},
     "output_type": "display_data"
    }
   ],
   "source": [
    "#!globals"
   ]
  },
  {
   "cell_type": "markdown",
   "id": "f3e00d6a-8af5-48ba-a7a0-501928a615fd",
   "metadata": {},
   "source": [
    "The `Orders` table has the columns:\n",
    "* `Cid`: customer id of type text.\n",
    "* `Pid`: product id of type text.\n",
    "* `Price`: the price per item.\n",
    "* `Quantity`: the number of items."
   ]
  },
  {
   "cell_type": "code",
   "execution_count": 3,
   "id": "279c1025-05a1-4ca6-916a-a368eb0b8e32",
   "metadata": {},
   "outputs": [
    {
     "data": {
      "text/plain": [
       "Seq<{str,str,r8,i8}>\r\n",
       "   0) { Cid: C01, Pid: P01, Price: 2.5, Quantity: 3 }\r\n",
       "   1) { Cid: C01, Pid: P02, Price: 8, Quantity: 2 }\r\n",
       "   2) { Cid: C02, Pid: P01, Price: 2.25, Quantity: 7 }\r\n",
       "   3) { Cid: C01, Pid: P01, Price: 2.5, Quantity: 5 }\r\n",
       "   4) { Cid: C03, Pid: P02, Price: 7.5, Quantity: 5 }\r\n",
       "   5) { Cid: C04, Pid: P01, Price: 3, Quantity: 1 }\r\n"
      ]
     },
     "metadata": {},
     "output_type": "display_data"
    }
   ],
   "source": [
    "Orders"
   ]
  },
  {
   "cell_type": "markdown",
   "id": "b557c223-527b-4464-bb87-1e5fca723cb0",
   "metadata": {},
   "source": [
    "## Sum"
   ]
  },
  {
   "cell_type": "markdown",
   "id": "2bc4bcd1-feb4-434d-b277-92d7e46b45b2",
   "metadata": {},
   "source": [
    "Excel has a `SUM` function that adds the contents of the cells in a range. We also need a `Sum` function\n",
    "that takes a table column. The notation `Orders.Quantity` is a natural way to refer to the `Quantity`\n",
    "column of the `Orders` table. For example, to compute the total quantity of items represented in the\n",
    "`Orders` table, use:"
   ]
  },
  {
   "cell_type": "code",
   "execution_count": 4,
   "id": "5a7b2c0c-d7f8-4e8a-9c85-7fba45d8d751",
   "metadata": {},
   "outputs": [
    {
     "data": {
      "text/plain": [
       "23\r\n"
      ]
     },
     "metadata": {},
     "output_type": "display_data"
    }
   ],
   "source": [
    "Sum(Orders.Quantity)"
   ]
  },
  {
   "cell_type": "markdown",
   "id": "5bb08624-da69-480f-acc9-1fd0dd930b68",
   "metadata": {},
   "source": [
    "Excel also has a `SUMPRODUCT` function that computes the product of corresponding items in two parallel\n",
    "cell ranges and adds all of those products. If we had a `SumProduct` function, perhaps one could\n",
    "write `SumProduct(Orders.Quantity, Orders.Price)` to get the total value of all orders. We really didn't\n",
    "want to pursue this route since the table name `Orders` is repeated and this approach doesn't generalize\n",
    "to operations other than _multiplying_ the two column values.\n",
    "\n",
    "After puzzling over this for a while, we realized that we should replace the dot with a comma. That is,\n",
    "instead of `Sum(Orders.Quantity)`, we should encourage:"
   ]
  },
  {
   "cell_type": "code",
   "execution_count": 5,
   "id": "ef5d69ad-ed07-4786-9c98-e4e55a446ac9",
   "metadata": {},
   "outputs": [
    {
     "data": {
      "text/plain": [
       "23\r\n"
      ]
     },
     "metadata": {},
     "output_type": "display_data"
    }
   ],
   "source": [
    "Sum(Orders, Quantity)"
   ]
  },
  {
   "cell_type": "markdown",
   "id": "87b11005-aa8f-4507-af04-2568fc6549fd",
   "metadata": {},
   "source": [
    "What is going on here? And how does it help avoid `SumProduct` and its limitations?\n",
    "Read on."
   ]
  },
  {
   "cell_type": "markdown",
   "id": "484d6162-276e-42f8-9941-4619c3c8f8d4",
   "metadata": {},
   "source": [
    "## Lambdas\n",
    "\n",
    "Many languages have a mechanism for writing an _inline function_ that can be passed as a\n",
    "function argument. Such an inline function notation is often called a lambda expression.\n",
    "For example, in C#, the sum would be written\n",
    "```\n",
    "Enumerable.Sum(Orders, order => order.Quantity)\n",
    "```\n",
    "Replacing dot with comma is effectively introducing a lambda expression but without\n",
    "the need to name the sequence item (`order`).\n",
    "\n",
    "Rexl does _allow_ the sequence item to be named, when needed, but within the first argument, not\n",
    "within the implicit lambda expression:"
   ]
  },
  {
   "cell_type": "code",
   "execution_count": 6,
   "id": "132be716-fb19-4573-b15b-c9883dd5bcfc",
   "metadata": {},
   "outputs": [
    {
     "data": {
      "text/plain": [
       "23\r\n"
      ]
     },
     "metadata": {},
     "output_type": "display_data"
    }
   ],
   "source": [
    "Sum(order: Orders, order.Quantity)"
   ]
  },
  {
   "cell_type": "markdown",
   "id": "b67046aa-8e50-470e-9e17-d009fb86c3a0",
   "metadata": {},
   "source": [
    "The name of the `order` record can also be specified using `as`:"
   ]
  },
  {
   "cell_type": "code",
   "execution_count": 7,
   "id": "a0129477-6fd6-4a17-8ac9-e69712ddf5e7",
   "metadata": {},
   "outputs": [
    {
     "data": {
      "text/plain": [
       "23\r\n"
      ]
     },
     "metadata": {},
     "output_type": "display_data"
    }
   ],
   "source": [
    "Sum(Orders as order, order.Quantity)"
   ]
  },
  {
   "cell_type": "markdown",
   "id": "7b302591-ad5b-4516-a496-230314da8896",
   "metadata": {},
   "source": [
    "Rexl also allows using the `it` keyword to reference the sequence item:"
   ]
  },
  {
   "cell_type": "code",
   "execution_count": 8,
   "id": "5fdef69a-dc09-401e-9177-f37a35629d52",
   "metadata": {},
   "outputs": [
    {
     "data": {
      "text/plain": [
       "23\r\n"
      ]
     },
     "metadata": {},
     "output_type": "display_data"
    }
   ],
   "source": [
    "Sum(Orders, it.Quantity)"
   ]
  },
  {
   "cell_type": "markdown",
   "id": "5ff62d69-303f-41ce-9cdb-29322ac5f634",
   "metadata": {},
   "source": [
    "## SumProduct\n",
    "\n",
    "With comma instead of dot and implicit lambdas, there is no need for a separate `SumProduct` function.\n",
    "Instead, one simply writes:"
   ]
  },
  {
   "cell_type": "code",
   "execution_count": 9,
   "id": "83ffed3f-577f-4e3d-b182-16440f258761",
   "metadata": {},
   "outputs": [
    {
     "data": {
      "text/plain": [
       "92.25\r\n"
      ]
     },
     "metadata": {},
     "output_type": "display_data"
    }
   ],
   "source": [
    "Sum(Orders, Quantity * Price)"
   ]
  },
  {
   "cell_type": "markdown",
   "id": "9a2459f6-53e4-4163-882f-1df8d26eb415",
   "metadata": {},
   "source": [
    "As before, one can introduce a name for the order row, for example:"
   ]
  },
  {
   "cell_type": "code",
   "execution_count": 10,
   "id": "08a3ce7f-ad88-43e5-8987-a01970b3748b",
   "metadata": {},
   "outputs": [
    {
     "data": {
      "text/plain": [
       "92.25\r\n"
      ]
     },
     "metadata": {},
     "output_type": "display_data"
    }
   ],
   "source": [
    "Sum(row: Orders, row.Quantity * row.Price)"
   ]
  },
  {
   "cell_type": "markdown",
   "id": "caf3e138-069d-4bfa-bb4b-79ee139c01df",
   "metadata": {},
   "source": [
    "This generalizes to arbitrary logic. For example, to compute the _revenue reduction_\n",
    "if we give customer `C01` an 8% discount, use:"
   ]
  },
  {
   "cell_type": "code",
   "execution_count": 11,
   "id": "2892c556-a934-4d18-8439-6cb8aae871d7",
   "metadata": {},
   "outputs": [
    {
     "data": {
      "text/plain": [
       "2.88\r\n"
      ]
     },
     "metadata": {},
     "output_type": "display_data"
    }
   ],
   "source": [
    "Sum(Orders, Quantity * Price * If(Cid = \"C01\", 8%, 0%))"
   ]
  },
  {
   "cell_type": "markdown",
   "id": "12e8d137-3ed0-40d9-a3b6-32b8f67822e7",
   "metadata": {},
   "source": [
    "In Excel, this would typically be done by first adding a new column containing the discount\n",
    "formula, then by applying `SUM` to the cell range of that column."
   ]
  },
  {
   "cell_type": "markdown",
   "id": "99e23350-f3c0-4c26-9039-5ceb9c237ddc",
   "metadata": {},
   "source": [
    "## Other Functions\n",
    "\n",
    "Many Rexl functions support implicit lambda arguments."
   ]
  },
  {
   "cell_type": "markdown",
   "id": "7f00eabb-3328-4e10-83e3-01321ac4d877",
   "metadata": {},
   "source": [
    "To filter `Orders` to only rows where `Quantity` is at least `4`, use the `TakeIf` function,\n",
    "where the 2nd argument of `TakeIf` is an implicit lambda:"
   ]
  },
  {
   "cell_type": "code",
   "execution_count": 12,
   "id": "af0bb752-9ddf-4473-b587-562c003e2d55",
   "metadata": {},
   "outputs": [
    {
     "data": {
      "text/plain": [
       "Seq<{str,str,r8,i8}>\r\n",
       "   0) { Cid: C02, Pid: P01, Price: 2.25, Quantity: 7 }\r\n",
       "   1) { Cid: C01, Pid: P01, Price: 2.5, Quantity: 5 }\r\n",
       "   2) { Cid: C03, Pid: P02, Price: 7.5, Quantity: 5 }\r\n"
      ]
     },
     "metadata": {},
     "output_type": "display_data"
    }
   ],
   "source": [
    "TakeIf(Orders, Quantity >= 4)"
   ]
  },
  {
   "cell_type": "markdown",
   "id": "63ad4dfe-c1e3-4ab6-ac7b-8c823d5b7ad1",
   "metadata": {},
   "source": [
    "To add a `Cost` column that contains the product of `Quantity` and `Price`, use the `ForEach`\n",
    "and `SetFields` functions, where the 2nd argument of `ForEach` is an implicit lambda:"
   ]
  },
  {
   "cell_type": "code",
   "execution_count": 13,
   "id": "dd757f57-04f1-4713-9f58-560379ef1645",
   "metadata": {},
   "outputs": [
    {
     "data": {
      "text/plain": [
       "Seq<{str,r8,str,r8,i8}>\r\n",
       "   0) { Cid: C01, Cost: 7.5, Pid: P01, Price: 2.5, Quantity: 3 }\r\n",
       "   1) { Cid: C01, Cost: 16, Pid: P02, Price: 8, Quantity: 2 }\r\n",
       "   2) { Cid: C02, Cost: 15.75, Pid: P01, Price: 2.25, Quantity: 7 }\r\n",
       "   3) { Cid: C01, Cost: 12.5, Pid: P01, Price: 2.5, Quantity: 5 }\r\n",
       "   4) { Cid: C03, Cost: 37.5, Pid: P02, Price: 7.5, Quantity: 5 }\r\n",
       "   5) { Cid: C04, Cost: 3, Pid: P01, Price: 3, Quantity: 1 }\r\n"
      ]
     },
     "metadata": {},
     "output_type": "display_data"
    }
   ],
   "source": [
    "ForEach(row: Orders, SetFields(row, Cost: Quantity * Price))"
   ]
  },
  {
   "cell_type": "markdown",
   "id": "c7843f6d-295a-4f17-ad83-bf21a38fc84e",
   "metadata": {},
   "source": [
    "To compute `100` factorial, use the `Fold` and `Sequence` functions, where the 3rd\n",
    "argument of `Fold` is an implicit lambda:"
   ]
  },
  {
   "cell_type": "code",
   "execution_count": 14,
   "id": "9fd72f58-3e36-4573-9812-ac4cdaf372ae",
   "metadata": {},
   "outputs": [
    {
     "data": {
      "text/plain": [
       "93326215443944152681699238856266700490715968264381621468592963895217599993229915608941463976156518286253697920827223758251185210916864000000000000000000000000\r\n"
      ]
     },
     "metadata": {},
     "output_type": "display_data"
    }
   ],
   "source": [
    "Fold(k: Sequence(100), v: 1ia, v * k)"
   ]
  },
  {
   "cell_type": "markdown",
   "id": "41af4e4a-3f7e-4037-b0ed-1ccc9a87ebb2",
   "metadata": {},
   "source": [
    "Final note: unlike Excel, we chose to make function names use capital letters at the beginning\n",
    "of each word, as in `Sum`, `ForEach`, and `TakeIf`, not all characters of the function name."
   ]
  },
  {
   "cell_type": "code",
   "execution_count": null,
   "id": "b3f93e70-f563-4ad3-a413-b9fe6a2f6354",
   "metadata": {},
   "outputs": [],
   "source": []
  }
 ],
 "metadata": {
  "kernelspec": {
   "display_name": "Rexl",
   "language": "Rexl",
   "name": "rexl"
  },
  "language_info": {
   "file_extension": ".rexl",
   "mimetype": "text/x-rexl",
   "name": "Rexl",
   "pygments_lexer": "rexl",
   "version": "0.22"
  }
 },
 "nbformat": 4,
 "nbformat_minor": 5
}
