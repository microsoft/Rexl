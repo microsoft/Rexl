{
 "cells": [
  {
   "cell_type": "markdown",
   "id": "2587974e-3266-4e34-8a30-4897f1b660ed",
   "metadata": {},
   "source": [
    "# Sudoku with a SAT Solver\n",
    "\n",
    "This notebook demonstrates solving Sudoku using a boolean satisfiability (SAT) solver.\n",
    "\n",
    "A SAT problem consists of a number of boolean (`true`/`false`) **_variables_**,\n",
    "and a number of **_constraints_**. Each constraint is a **_disjunction_** (logical or)\n",
    "of some number of **_literals_**, where each literal is either a variable or the\n",
    "logical inverse (not) of a variable.\n",
    "\n",
    "A solution to the SAT problem is an assignment of `true` or `false` to some number\n",
    "of the variables that satisfies **_all_** the constraints. The entire problem can\n",
    "be viewed as a conjunction (logical and) of disjunctions (logical ors). This is called\n",
    "[**_conjuctive normal form_**](https://en.wikipedia.org/wiki/Conjunctive_normal_form)\n",
    "or **_CNF_**.\n",
    "\n",
    "The job of a SAT solver is to (ideally) find all solutions. So it should translate from\n",
    "a **_conjunction of disjunctions_** (CNF) to a **_disjunction of conjunctions_**, which is\n",
    "called [**_disjunctive normal form_**](https://en.wikipedia.org/wiki/Disjunctive_normal_form)\n",
    "or **_DNF_**."
   ]
  },
  {
   "cell_type": "markdown",
   "id": "1643ec65-1d0d-404a-951a-1ae3e7d433a2",
   "metadata": {},
   "source": [
    "The Rexl SAT solver is a fairly basic one. The core function is\n",
    "```\n",
    "Sat.Solve(count, constraints, max_solutions)\n",
    "```\n",
    "where\n",
    "* `count` is the number of literals (not variables), so must be even.\n",
    "* `constraints` is a sequence of **_clauses_** (constraints).\n",
    "  * Each clause is a sequence of **_literals_**, representing a **_disjunction_** (logical or)\n",
    "    of the literals.\n",
    "  * Each literal is an `I8` (default integer type) value that is at least zero and less than\n",
    "    `count`. The **_literals_** come in inverse pairs with an even literal, such as `8`, being\n",
    "    paired with the succeeding odd literal, `9`. The SAT solver maintains that two paired literals\n",
    "    are inverse, that is, one is `true` and the other is `false`.\n",
    "* `max_solutions` is the maximum number of solutions that the SAT solver will produce.\n",
    "\n",
    "The `Sat.Solve` function returns a sequence of **_clauses_** where each clause is again a sequence\n",
    "of **_literals_**. For the return result, each clause should be interpreted as a **_conjunction_**\n",
    "of the literals, in contrast to the `constraints` parameter, which is a sequence of clauses where\n",
    "each clause is a **_disjunction_** of literals.\n",
    "\n",
    "It is convenient (and traditional) to assign each variable in a CNF an index starting\n",
    "from zero. The `count` passed to `Sat.Solve` is twice the number of variables. The\n",
    "literal represented by twice the index of a variable is taken to represent the variable\n",
    "while the succeeding odd literal is taken to represent the inverse (logical negation) of\n",
    "the variable. Note: the association of a variable with an even literal in an inverse pair is\n",
    "entirely arbitrary. Alternatively, one could associate a variable with an odd literal and the\n",
    "inverse of the variable with the associated even literal. The user of the SAT solver can\n",
    "choose which convention to use. That is, the SAT solver doesn't know about the **_variables_**,\n",
    "only about **_literals_**. Which literal corresponds to a variable is immaterial to the SAT solver."
   ]
  },
  {
   "cell_type": "markdown",
   "id": "70807e10-b903-4561-bd82-2f0792d46e1a",
   "metadata": {},
   "source": [
    "Rexl provides some functions to help build a representation of a CNF. One is\n",
    "```\n",
    "Sat.Not(literal)\n",
    "```\n",
    "where `literal` is an `I8` value, as described above. This returns the `xor` of the\n",
    "`literal` with `1`, which is its inverse literal. For example"
   ]
  },
  {
   "cell_type": "code",
   "execution_count": 1,
   "id": "18d8c19f-b8bb-4f73-9ebc-69b6915d16dd",
   "metadata": {},
   "outputs": [
    {
     "data": {
      "text/plain": [
       "2\r\n",
       "3\r\n"
      ]
     },
     "metadata": {},
     "output_type": "display_data"
    }
   ],
   "source": [
    "Sat.Not(3);\n",
    "Sat.Not(2);"
   ]
  },
  {
   "cell_type": "markdown",
   "id": "9d6bf406-35a6-4d11-8a46-671b47b09373",
   "metadata": {},
   "source": [
    "Rexl also provides\n",
    "```\n",
    "Sat.AtMostOne(literals)\n",
    "```\n",
    "where `literals` is a sequence of literals, each of which is an `I8` value as described\n",
    "above. This function returns a sequence of clauses, where each clause is a sequence of\n",
    "exactly two literals, and each of the literals is the inverse literal of one of the\n",
    "source literals. The number of clauses produced is the number of pairs taken from `literals`,\n",
    "which is **_n choose 2_**, if `n` is the number of items in `literals`. \n",
    "\n",
    "For example, if there are three logical variables `x`, `y`, and `z` assigned variable indices\n",
    "`0`, `1`, and `2`, respectively, then:\n",
    "* The literals `0` and `1` represent `x` and `!x`, respectively.\n",
    "* The literals `2` and `3` represent `y` and `!y`, respectively.\n",
    "* The literals `4` and `5` represent `x` and `!x`, respectively.\n",
    "\n",
    "Calling `Sat.AtMostOne([0, 3, 4])` represents that at most one of `x`, `!y`, `z` should be true.\n",
    "This is represented by `(!x or y) and (!x or !z) and (y or !z)`, which is represented by\n",
    "a sequence containing **_3 choose 2_** sequences of literals, namely\n",
    "```\n",
    "[ [1, 2], [1, 5], [2, 5] ]\n",
    "```\n",
    "This is indeed what `Sat.AtMostOne` returns."
   ]
  },
  {
   "cell_type": "code",
   "execution_count": 2,
   "id": "e1f3b1bb-15d1-4a4c-8302-5cb921f1ad05",
   "metadata": {},
   "outputs": [
    {
     "data": {
      "text/plain": [
       "Seq<Seq<i8>>\r\n",
       "   0) Seq<i8>\r\n",
       "         0) 1\r\n",
       "         1) 2\r\n",
       "   1) Seq<i8>\r\n",
       "         0) 1\r\n",
       "         1) 5\r\n",
       "   2) Seq<i8>\r\n",
       "         0) 2\r\n",
       "         1) 5\r\n"
      ]
     },
     "metadata": {},
     "output_type": "display_data"
    }
   ],
   "source": [
    "Sat.AtMostOne([0, 3, 4])"
   ]
  },
  {
   "cell_type": "markdown",
   "id": "7459d0c5-b6a1-41ac-8b69-6fa042101d8f",
   "metadata": {},
   "source": [
    "## Define a function to map a digit character to its value.\n",
    "\n",
    "We define a function that maps from a Unicode character to its \"value\" from the\n",
    "perspective of Sudoku. We want to support traditional Sudoku (of rank 3) as\n",
    "well as higher ranks, up to rank 6, so we need a total of 36 symbols. Traditional\n",
    "Sudoku uses `\"123456789\"`. To get 36 symbols, we'll also use `0` and `A`\n",
    "through `Z`, so our symbols are `\"1234567890ABCDEFGHIJKLMNOPQRSTUVWXYZ\"`.\n",
    "\n",
    "This function should map a Unicode character to its position in our symbol list,\n",
    "and return `-1` if the Unicode character is not one of our symbols."
   ]
  },
  {
   "cell_type": "code",
   "execution_count": 3,
   "id": "9e773226-4c36-4329-a54a-225552378fd8",
   "metadata": {
    "tags": []
   },
   "outputs": [],
   "source": [
    "// Accepts a Unicode code point. Returns the index into\n",
    "// \"1234567890ABCDEFGHIJKLMNOPQRSTUVWXYZ\", or -1 if not found.\n",
    "// Note that 0 follows 9.\n",
    "\n",
    "func ToDigit(ch) :=\n",
    "  ch - \"1\"[0] if \"1\"[0] <= ch <= \"9\"[0]      else\n",
    "  9           if           ch  = \"0\"[0]      else\n",
    "  ch - \"A\"[0] + 10 if \"A\"[0] <= ch <= \"Z\"[0] else\n",
    "  ch - \"A\"[0] + 10 if \"A\"[0] <= ch <= \"Z\"[0] else\n",
    "  -1;"
   ]
  },
  {
   "cell_type": "markdown",
   "id": "2e4bd0d3-b3f6-45f6-bffc-8f1401c1847f",
   "metadata": {},
   "source": [
    "## Define some functions to invoke the SAT solver."
   ]
  },
  {
   "cell_type": "code",
   "execution_count": 4,
   "id": "ba3939dc-e03f-45fe-9e76-437223d3e822",
   "metadata": {
    "tags": []
   },
   "outputs": [],
   "source": [
    "// pre is a text value containing the pre-filled values. Pass null or empty for none.\n",
    "// M is the size/rank, with 3 meaning standard Sudoku. Maximum supported value is 6.\n",
    "// MaxSln is the maximum number of solutions that should be produced.\n",
    "func Sudoku.Private.Core(pre, M, MaxSln) :=\n",
    "  With(\n",
    "    N : M^2,\n",
    "    NumCells: N^2,\n",
    "    NumVars : N^3,\n",
    "    Prefilled: pre,\n",
    "\n",
    "    Symbols : \"1234567890ABCDEFGHIJKLMNOPQRSTUVWXYZ\",\n",
    "\n",
    "    // SAT solver variables each have an index from 0 up to (but not including)\n",
    "    // the number of variables, NumVars. Each (bool) variable represents whether a\n",
    "    // particular value is placed in a particular cell. The variable index is the\n",
    "    // cell number times N plus the value.\n",
    "    Vars : Range(NumVars),\n",
    "\n",
    "    // Group the variable indices by cell (row and col), by value and row, by value and column,\n",
    "    // and by value and N x N block.\n",
    "    VarsByRowCol : Vars->GroupBy(it div N),\n",
    "    VarsByValRow : Vars->GroupBy([key] it mod N, [key] it div N div N),\n",
    "    VarsByValCol : Vars->GroupBy([key] it mod N, [key] it div N mod N),\n",
    "    VarsByValBlk : Vars->GroupBy([key] it mod N, [key] it div N div M mod M, [key] it div N div M div N),\n",
    "\n",
    "    // Each SAT solver constraint is a disjunction (logical or) of some literals. A literal is either\n",
    "    // a variable or the logical inverse (not) of the variable. The former is represented by the\n",
    "    // variable index times two. The latter is one more than that. Consequently, each constraint is a\n",
    "    // sequence of these numbers, each number being either double a variable index, indicating the variable\n",
    "    // is in the disjunction, or that plus one, indicating the logical inverse of the variable is in\n",
    "    // the disjunction.\n",
    "    Imposed :\n",
    "      Range(NumCells)\n",
    "        // Map characters in Prefilled to the value represented by that character.\n",
    "        ->{cell: it, value: Prefilled[it]->ToDigit()}\n",
    "        // Filter to only valid values.\n",
    "        ->TakeIf(0 <= value < N)\n",
    "        // Compute the corresponding variable indices and multiply be two indicating\n",
    "        // that the variable should be true. Each such value/literal is wrapped in its\n",
    "        // own constraint/disjunction/sequence, forcing the variable to be true.\n",
    "        ->Map([2 * (N * cell + value)]),\n",
    "\n",
    "    // Construct the normal Sudoku constraints. These don't depend on the imposed\n",
    "    // cell values.\n",
    "    Clauses : Chain(\n",
    "      // Each cell should have a value.\n",
    "      2 * VarsByRowCol,\n",
    "\n",
    "      // Sat.AtMostOne takes a sequence of literals and produces a sequence of\n",
    "      // disjunctions, each disjunction containing the inverse of two of the\n",
    "      // literals.\n",
    "\n",
    "      // At most one value per cell.\n",
    "      // At most one occurrence of a value in a row.\n",
    "      // At most one occurrence of a value in a column.\n",
    "      // At most one occurrence of a value in a block.\n",
    "      VarsByRowCol->ChainMap(Sat.AtMostOne(2 * it)),\n",
    "      VarsByValRow->ChainMap(Sat.AtMostOne(2 * it)),\n",
    "      VarsByValCol->ChainMap(Sat.AtMostOne(2 * it)),\n",
    "      VarsByValBlk->ChainMap(Sat.AtMostOne(2 * it)),\n",
    "\n",
    "      // The imposed constraints.\n",
    "      Imposed\n",
    "    ),\n",
    "\n",
    "    // The SAT solver produces a sequence of solutions (lazily), not just one.\n",
    "    // Each solution is a sequence of literals that must all be true (a conjunction).\n",
    "    // The parameters of Sat.Solve are: the number of literals, the constraint\n",
    "    // clauses, and the maximum number of solutions to generate.\n",
    "    Boards : Sat.Solve(2 * NumVars, Clauses, MaxSln)->Map(as sln,\n",
    "      sln\n",
    "        // Filter to the true variables, map to variable indices, and sort smallest to largest.\n",
    "        ->Filter(it mod 2 = 0)->Div(2)->SortUp()\n",
    "        // Group by row and map each group item to its symbol.\n",
    "        ->GroupBy(it div N div N, Symbols[it mod N : *1])\n",
    "        // Glue the row values together.\n",
    "        ->Map(it->Concat(\"|\"))\n",
    "        // Glue the rows together.\n",
    "        ->Concat(\"\\n\")\n",
    "        // Prefix with a newline.\n",
    "        | \"\\n\" & _\n",
    "    ),\n",
    "\n",
    "    // Produce a record containing the clauses, imposed cell values, sequence of boards,\n",
    "    // and original prefilled cell specification.\n",
    "    {Clauses, Imposed, Boards, Prefilled}\n",
    "  );\n",
    "\n",
    "// Define two additional convenience UDFs, so the caller doesn't have\n",
    "// to specify M or MaxSln on every call.\n",
    "func Sudoku.Solve(pre) := Private.Core(pre, 3, 10);\n",
    "func Sudoku.Solve(maxSln, pre) := Private.Core(pre, 3, maxSln);"
   ]
  },
  {
   "cell_type": "markdown",
   "id": "f054dd3e-53c8-4d9c-bc74-740b64d0f433",
   "metadata": {},
   "source": [
    "## Solve a Puzzle"
   ]
  },
  {
   "cell_type": "code",
   "execution_count": 5,
   "id": "10ed780f-ea87-4463-b9c6-b91451d3f57b",
   "metadata": {
    "tags": []
   },
   "outputs": [
    {
     "data": {
      "text/plain": [
       "1\r\n",
       "Seq<str>\r\n",
       "   0) \n",
       "4|6|1|5|2|8|9|7|3\n",
       "7|2|9|6|3|4|8|5|1\n",
       "3|5|8|7|1|9|6|4|2\n",
       "5|1|4|8|9|6|3|2|7\n",
       "6|7|3|1|5|2|4|8|9\n",
       "9|8|2|4|7|3|5|1|6\n",
       "2|4|6|9|8|1|7|3|5\n",
       "1|9|7|3|4|5|2|6|8\n",
       "8|3|5|2|6|7|1|9|4\r\n"
      ]
     },
     "metadata": {},
     "output_type": "display_data"
    }
   ],
   "source": [
    "Results := Sudoku.Solve(\n",
    "  \"....2..7.\" &\n",
    "  \"....34...\" &\n",
    "  \"358......\" &\n",
    "  \"5.48.....\" &\n",
    "  \"...1...89\" &\n",
    "  \"..2.....6\" &\n",
    "  \"24....7..\" &\n",
    "  \".9...52..\" &\n",
    "  \"....671..\"\n",
    ");\n",
    "\n",
    "Results.Boards->Count();\n",
    "Results.Boards;"
   ]
  },
  {
   "cell_type": "markdown",
   "id": "52bb6509-7300-474a-8b02-dbffe3101a49",
   "metadata": {},
   "source": [
    "### Erase One of the Required Values\n",
    "\n",
    "The erased value is the `3` in the second row (replaced with `_` to emphasize).\n",
    "If there is still just one solution, that value wasn't needed to ensure\n",
    "uniqueness.\n",
    "\n",
    "Note that the MIP solver form can't easily determine whether there are multiple solutions.\n",
    "The SAT solver handles this with ease."
   ]
  },
  {
   "cell_type": "code",
   "execution_count": 6,
   "id": "fbf46637-126c-4665-8c2b-fdfd9035ec41",
   "metadata": {
    "tags": []
   },
   "outputs": [
    {
     "data": {
      "text/plain": [
       "7\r\n",
       "Seq<str>\r\n",
       "   0) \n",
       "4|6|1|5|2|9|8|7|3\n",
       "7|2|9|3|8|4|6|5|1\n",
       "3|5|8|6|7|1|9|4|2\n",
       "5|1|4|8|9|6|3|2|7\n",
       "6|7|3|1|4|2|5|8|9\n",
       "9|8|2|7|5|3|4|1|6\n",
       "2|4|6|9|1|8|7|3|5\n",
       "1|9|7|4|3|5|2|6|8\n",
       "8|3|5|2|6|7|1|9|4\r\n",
       "   1) \n",
       "4|6|1|3|2|9|8|7|5\n",
       "7|2|9|5|8|4|6|3|1\n",
       "3|5|8|6|7|1|9|4|2\n",
       "5|1|4|8|9|6|3|2|7\n",
       "6|7|3|1|5|2|4|8|9\n",
       "9|8|2|7|4|3|5|1|6\n",
       "2|4|6|9|1|8|7|5|3\n",
       "1|9|7|4|3|5|2|6|8\n",
       "8|3|5|2|6|7|1|9|4\r\n",
       "   2) \n",
       "4|6|1|5|2|8|9|7|3\n",
       "7|2|9|6|3|4|8|5|1\n",
       "3|5|8|7|1|9|6|4|2\n",
       "5|1|4|8|9|6|3|2|7\n",
       "6|7|3|1|5|2|4|8|9\n",
       "9|8|2|4|7|3|5|1|6\n",
       "2|4|6|9|8|1|7|3|5\n",
       "1|9|7|3|4|5|2|6|8\n",
       "8|3|5|2|6|7|1|9|4\r\n",
       "   3) \n",
       "4|6|1|5|2|9|8|7|3\n",
       "7|2|9|3|8|4|6|5|1\n",
       "3|5|8|6|7|1|9|4|2\n",
       "5|1|4|8|9|6|3|2|7\n",
       "6|7|3|1|5|2|4|8|9\n",
       "9|8|2|7|4|3|5|1|6\n",
       "2|4|6|9|1|8|7|3|5\n",
       "1|9|7|4|3|5|2|6|8\n",
       "8|3|5|2|6|7|1|9|4\r\n",
       "   4) \n",
       "4|6|1|3|2|8|9|7|5\n",
       "7|2|9|6|5|4|8|3|1\n",
       "3|5|8|7|1|9|6|4|2\n",
       "5|1|4|8|9|6|3|2|7\n",
       "6|7|3|1|4|2|5|8|9\n",
       "9|8|2|5|7|3|4|1|6\n",
       "2|4|6|9|3|1|7|5|8\n",
       "1|9|7|4|8|5|2|6|3\n",
       "8|3|5|2|6|7|1|9|4\r\n",
       "   5) \n",
       "4|6|1|3|2|8|9|7|5\n",
       "7|2|9|6|5|4|8|3|1\n",
       "3|5|8|7|1|9|6|4|2\n",
       "5|1|4|8|9|6|3|2|7\n",
       "6|7|3|1|4|2|5|8|9\n",
       "9|8|2|5|7|3|4|1|6\n",
       "2|4|6|9|8|1|7|5|3\n",
       "1|9|7|4|3|5|2|6|8\n",
       "8|3|5|2|6|7|1|9|4\r\n",
       "   6) \n",
       "4|6|1|3|2|9|8|7|5\n",
       "7|2|9|5|8|4|6|3|1\n",
       "3|5|8|6|7|1|9|4|2\n",
       "5|1|4|8|9|6|3|2|7\n",
       "6|7|3|1|4|2|5|8|9\n",
       "9|8|2|7|5|3|4|1|6\n",
       "2|4|6|9|1|8|7|5|3\n",
       "1|9|7|4|3|5|2|6|8\n",
       "8|3|5|2|6|7|1|9|4\r\n"
      ]
     },
     "metadata": {},
     "output_type": "display_data"
    }
   ],
   "source": [
    "Results := Sudoku.Solve(\n",
    "  \"....2..7.\" &\n",
    "  \"...._4...\" &\n",
    "  \"358......\" &\n",
    "  \"5.48.....\" &\n",
    "  \"...1...89\" &\n",
    "  \"..2.....6\" &\n",
    "  \"24....7..\" &\n",
    "  \".9...52..\" &\n",
    "  \"....671..\"\n",
    ");\n",
    "\n",
    "Results.Boards->Count();\n",
    "Results.Boards;"
   ]
  },
  {
   "cell_type": "markdown",
   "id": "69db265d-1172-4c4a-809c-a2f6659f20f4",
   "metadata": {},
   "source": [
    "### Add a Bad Required Value\n",
    "\n",
    "Add an extra required value that is inconsistent with the solution.\n",
    "The SAT solver finds no solutions.\n",
    "\n",
    "Note that the MIP solver form can fill in until no further placements are possible.\n",
    "The SAT solver can't do this."
   ]
  },
  {
   "cell_type": "code",
   "execution_count": 7,
   "id": "a56dbb88-0a4d-4bb8-a2cc-9d8170d14f88",
   "metadata": {},
   "outputs": [
    {
     "data": {
      "text/plain": [
       "0\r\n",
       "Seq<str>\r\n"
      ]
     },
     "metadata": {},
     "output_type": "display_data"
    }
   ],
   "source": [
    "Results := Sudoku.Solve(\n",
    "  \"....2..74\" &\n",
    "  \"....34...\" &\n",
    "  \"358......\" &\n",
    "  \"5.48.....\" &\n",
    "  \"...1...89\" &\n",
    "  \"..2.....6\" &\n",
    "  \"24....7..\" &\n",
    "  \".9...52..\" &\n",
    "  \"....671..\"\n",
    ");\n",
    "\n",
    "Results.Boards->Count();\n",
    "Results.Boards;"
   ]
  },
  {
   "cell_type": "markdown",
   "id": "20729dbe-7d69-463a-acae-5e45d4d24cd3",
   "metadata": {},
   "source": [
    "## Hardest Sudoku\n",
    "\n",
    "The \"internet\" claims this is the world's most difficult sudoku puzzle, taken from\n",
    "[here](https://www.kristanix.com/sudokuepic/worlds-hardest-sudoku.php). The author of it,\n",
    "Finnish mathematician Arto Inkala, calls it AI Escargot."
   ]
  },
  {
   "cell_type": "code",
   "execution_count": 8,
   "id": "f7875632-4a26-406f-8562-2feb8a043def",
   "metadata": {
    "tags": []
   },
   "outputs": [
    {
     "data": {
      "text/plain": [
       "1\r\n",
       "Seq<str>\r\n",
       "   0) \n",
       "1|6|2|8|5|7|4|9|3\n",
       "5|3|4|1|2|9|6|7|8\n",
       "7|8|9|6|4|3|5|2|1\n",
       "4|7|5|3|1|2|9|8|6\n",
       "9|1|3|5|8|6|7|4|2\n",
       "6|2|8|7|9|4|1|3|5\n",
       "3|5|6|4|7|8|2|1|9\n",
       "2|4|1|9|3|5|8|6|7\n",
       "8|9|7|2|6|1|3|5|4\r\n"
      ]
     },
     "metadata": {},
     "output_type": "display_data"
    }
   ],
   "source": [
    "Results := Sudoku.Solve(\n",
    "    \"1....7.9.\" &\n",
    "    \".3..2...8\" &\n",
    "    \"..96..5..\" &\n",
    "    \"..53..9..\" &\n",
    "    \".1..8...2\" &\n",
    "    \"6....4...\" &\n",
    "    \"3......1.\" &\n",
    "    \".4......7\" &\n",
    "    \"..7...3..\"\n",
    ");\n",
    "\n",
    "Results.Boards->Count();\n",
    "Results.Boards;"
   ]
  },
  {
   "cell_type": "markdown",
   "id": "9a667341-8d4f-4d33-96a2-1898c918365b",
   "metadata": {},
   "source": [
    "### Erase a Required Value\n",
    "\n",
    "When the required value `9` near the end of the first row is removed, there are `20`\n",
    "solutions."
   ]
  },
  {
   "cell_type": "code",
   "execution_count": 9,
   "id": "c6d14af9-fce3-4411-b8a0-e8a7c02a317a",
   "metadata": {},
   "outputs": [
    {
     "data": {
      "text/plain": [
       "20\r\n",
       "Seq<str>\r\n",
       "   0) \n",
       "1|5|4|8|3|7|6|2|9\n",
       "7|3|6|9|2|5|1|4|8\n",
       "8|2|9|6|4|1|5|7|3\n",
       "4|7|5|3|1|2|9|8|6\n",
       "9|1|3|7|8|6|4|5|2\n",
       "6|8|2|5|9|4|7|3|1\n",
       "3|6|8|4|7|9|2|1|5\n",
       "5|4|1|2|6|3|8|9|7\n",
       "2|9|7|1|5|8|3|6|4\r\n",
       "   1) \n",
       "1|5|4|8|9|7|2|6|3\n",
       "7|3|6|4|2|5|1|9|8\n",
       "2|8|9|6|3|1|5|7|4\n",
       "8|7|5|3|1|2|9|4|6\n",
       "4|1|3|9|8|6|7|5|2\n",
       "6|9|2|5|7|4|8|3|1\n",
       "3|2|8|7|6|9|4|1|5\n",
       "9|4|1|2|5|3|6|8|7\n",
       "5|6|7|1|4|8|3|2|9\r\n",
       "   2) \n",
       "1|5|4|8|9|7|6|2|3\n",
       "7|3|6|4|2|5|1|9|8\n",
       "2|8|9|6|3|1|5|7|4\n",
       "8|7|5|3|1|2|9|4|6\n",
       "4|1|3|9|8|6|7|5|2\n",
       "6|9|2|7|5|4|8|3|1\n",
       "3|6|8|2|7|9|4|1|5\n",
       "9|4|1|5|6|3|2|8|7\n",
       "5|2|7|1|4|8|3|6|9\r\n",
       "   3) \n",
       "1|5|4|8|9|7|2|3|6\n",
       "7|3|6|4|2|5|1|9|8\n",
       "2|8|9|6|3|1|5|7|4\n",
       "8|7|5|3|6|2|9|4|1\n",
       "4|1|3|5|8|9|7|6|2\n",
       "6|9|2|7|1|4|8|5|3\n",
       "3|2|8|9|7|6|4|1|5\n",
       "9|4|1|2|5|3|6|8|7\n",
       "5|6|7|1|4|8|3|2|9\r\n",
       "   4) \n",
       "1|5|4|8|9|7|2|3|6\n",
       "7|3|6|4|2|5|1|9|8\n",
       "2|8|9|6|3|1|5|7|4\n",
       "8|7|5|3|6|2|9|4|1\n",
       "4|1|3|7|8|9|6|5|2\n",
       "6|9|2|5|1|4|7|8|3\n",
       "3|2|8|9|7|6|4|1|5\n",
       "9|4|1|2|5|3|8|6|7\n",
       "5|6|7|1|4|8|3|2|9\r\n",
       "   5) \n",
       "1|5|4|8|9|7|2|3|6\n",
       "7|3|6|4|2|5|1|9|8\n",
       "2|8|9|6|1|3|5|7|4\n",
       "8|7|5|3|6|2|9|4|1\n",
       "4|1|3|5|8|9|7|6|2\n",
       "6|9|2|1|7|4|8|5|3\n",
       "3|2|8|7|5|6|4|1|9\n",
       "5|4|1|9|3|8|6|2|7\n",
       "9|6|7|2|4|1|3|8|5\r\n",
       "   6) \n",
       "1|5|6|8|3|7|2|4|9\n",
       "7|3|4|9|2|5|1|6|8\n",
       "2|8|9|6|4|1|5|7|3\n",
       "4|7|5|3|1|2|9|8|6\n",
       "9|1|3|7|8|6|4|5|2\n",
       "6|2|8|5|9|4|7|3|1\n",
       "3|6|2|4|7|9|8|1|5\n",
       "8|4|1|2|5|3|6|9|7\n",
       "5|9|7|1|6|8|3|2|4\r\n",
       "   7) \n",
       "1|5|4|8|3|7|2|6|9\n",
       "7|3|6|9|2|5|1|4|8\n",
       "2|8|9|6|4|1|5|7|3\n",
       "4|7|5|3|1|2|9|8|6\n",
       "9|1|3|7|8|6|4|5|2\n",
       "6|2|8|5|9|4|7|3|1\n",
       "3|6|2|4|7|9|8|1|5\n",
       "8|4|1|2|5|3|6|9|7\n",
       "5|9|7|1|6|8|3|2|4\r\n",
       "   8) \n",
       "1|5|6|8|3|7|2|4|9\n",
       "7|3|4|9|2|5|1|6|8\n",
       "2|8|9|6|4|1|5|7|3\n",
       "4|7|5|3|1|2|9|8|6\n",
       "9|1|3|7|8|6|4|5|2\n",
       "6|2|8|5|9|4|7|3|1\n",
       "3|9|2|4|7|8|6|1|5\n",
       "5|4|1|2|6|3|8|9|7\n",
       "8|6|7|1|5|9|3|2|4\r\n",
       "   9) \n",
       "1|5|6|8|9|7|2|3|4\n",
       "7|3|4|1|2|5|6|9|8\n",
       "2|8|9|6|4|3|5|7|1\n",
       "4|7|5|3|1|2|9|8|6\n",
       "9|1|3|5|8|6|7|4|2\n",
       "6|2|8|9|7|4|1|5|3\n",
       "3|9|2|7|6|8|4|1|5\n",
       "5|4|1|2|3|9|8|6|7\n",
       "8|6|7|4|5|1|3|2|9\r\n",
       "  10) \n",
       "1|2|8|5|9|7|4|6|3\n",
       "5|3|6|4|2|1|7|9|8\n",
       "4|7|9|6|3|8|5|2|1\n",
       "2|8|5|3|1|6|9|7|4\n",
       "7|1|4|9|8|5|6|3|2\n",
       "6|9|3|2|7|4|1|8|5\n",
       "3|5|2|7|4|9|8|1|6\n",
       "9|4|1|8|6|3|2|5|7\n",
       "8|6|7|1|5|2|3|4|9\r\n",
       "  11) \n",
       "1|5|6|8|9|7|2|3|4\n",
       "7|3|4|1|2|5|6|9|8\n",
       "2|8|9|6|4|3|5|7|1\n",
       "4|7|5|3|1|2|9|8|6\n",
       "9|1|3|5|8|6|7|4|2\n",
       "6|2|8|9|7|4|1|5|3\n",
       "3|6|2|7|5|8|4|1|9\n",
       "5|4|1|2|3|9|8|6|7\n",
       "8|9|7|4|6|1|3|2|5\r\n",
       "  12) \n",
       "1|5|6|8|9|7|2|4|3\n",
       "7|3|4|1|2|5|6|9|8\n",
       "8|2|9|6|4|3|5|7|1\n",
       "2|7|5|3|6|1|9|8|4\n",
       "4|1|3|5|8|9|7|6|2\n",
       "6|9|8|2|7|4|1|3|5\n",
       "3|6|2|7|5|8|4|1|9\n",
       "5|4|1|9|3|6|8|2|7\n",
       "9|8|7|4|1|2|3|5|6\r\n",
       "  13) \n",
       "1|5|4|8|3|7|2|6|9\n",
       "7|3|6|9|2|5|1|4|8\n",
       "2|8|9|6|4|1|5|7|3\n",
       "4|7|5|3|1|2|9|8|6\n",
       "9|1|3|7|8|6|4|5|2\n",
       "6|2|8|5|9|4|7|3|1\n",
       "3|9|2|4|7|8|6|1|5\n",
       "5|4|1|2|6|3|8|9|7\n",
       "8|6|7|1|5|9|3|2|4\r\n",
       "  14) \n",
       "1|2|8|9|5|7|4|6|3\n",
       "5|3|6|4|2|1|7|9|8\n",
       "4|7|9|6|3|8|5|2|1\n",
       "2|8|5|3|1|6|9|7|4\n",
       "7|1|4|5|8|9|6|3|2\n",
       "6|9|3|2|7|4|1|8|5\n",
       "3|6|2|7|4|5|8|1|9\n",
       "9|4|1|8|6|3|2|5|7\n",
       "8|5|7|1|9|2|3|4|6\r\n",
       "  15) \n",
       "1|6|2|8|5|7|4|3|9\n",
       "5|3|4|1|2|9|6|7|8\n",
       "7|8|9|6|4|3|5|2|1\n",
       "4|7|5|3|1|2|9|8|6\n",
       "9|1|3|5|8|6|7|4|2\n",
       "6|2|8|7|9|4|1|5|3\n",
       "3|9|6|4|7|8|2|1|5\n",
       "2|4|1|9|3|5|8|6|7\n",
       "8|5|7|2|6|1|3|9|4\r\n",
       "  16) \n",
       "1|5|4|8|3|7|2|6|9\n",
       "7|3|6|5|2|9|1|4|8\n",
       "2|8|9|6|4|1|5|7|3\n",
       "4|7|5|3|1|2|9|8|6\n",
       "9|1|3|7|8|6|4|5|2\n",
       "6|2|8|9|5|4|7|3|1\n",
       "3|9|2|4|7|8|6|1|5\n",
       "5|4|1|2|6|3|8|9|7\n",
       "8|6|7|1|9|5|3|2|4\r\n",
       "  17) \n",
       "1|5|6|8|4|7|2|3|9\n",
       "7|3|4|5|2|9|1|6|8\n",
       "2|8|9|6|1|3|5|7|4\n",
       "4|7|5|3|6|2|9|8|1\n",
       "9|1|3|7|8|5|6|4|2\n",
       "6|2|8|1|9|4|7|5|3\n",
       "3|6|2|9|7|8|4|1|5\n",
       "5|4|1|2|3|6|8|9|7\n",
       "8|9|7|4|5|1|3|2|6\r\n",
       "  18) \n",
       "1|6|2|8|5|7|4|9|3\n",
       "5|3|4|1|2|9|6|7|8\n",
       "7|8|9|6|4|3|5|2|1\n",
       "4|7|5|3|1|2|9|8|6\n",
       "9|1|3|5|8|6|7|4|2\n",
       "6|2|8|7|9|4|1|3|5\n",
       "3|5|6|4|7|8|2|1|9\n",
       "2|4|1|9|3|5|8|6|7\n",
       "8|9|7|2|6|1|3|5|4\r\n",
       "  19) \n",
       "1|5|6|8|3|7|2|4|9\n",
       "7|3|4|5|2|9|1|6|8\n",
       "2|8|9|6|4|1|5|7|3\n",
       "4|7|5|3|1|2|9|8|6\n",
       "9|1|3|7|8|6|4|5|2\n",
       "6|2|8|9|5|4|7|3|1\n",
       "3|9|2|4|7|8|6|1|5\n",
       "5|4|1|2|6|3|8|9|7\n",
       "8|6|7|1|9|5|3|2|4\r\n"
      ]
     },
     "metadata": {},
     "output_type": "display_data"
    }
   ],
   "source": [
    "Results := Sudoku.Solve(\n",
    "    100, // max solutions to show\n",
    "    \"1....7._.\" &\n",
    "    \".3..2...8\" &\n",
    "    \"..96..5..\" &\n",
    "    \"..53..9..\" &\n",
    "    \".1..8...2\" &\n",
    "    \"6....4...\" &\n",
    "    \"3......1.\" &\n",
    "    \".4......7\" &\n",
    "    \"..7...3..\"\n",
    ");\n",
    "\n",
    "Results.Boards->Count();\n",
    "Results.Boards;"
   ]
  },
  {
   "cell_type": "markdown",
   "id": "80596039-3042-4c4e-b0b5-d96bbf4ef586",
   "metadata": {},
   "source": [
    "## Generate some Sudoku Puzzles\n",
    "\n",
    "Generate 5 filled in Sudoku boards with first row specified."
   ]
  },
  {
   "cell_type": "code",
   "execution_count": 10,
   "id": "d822eecf-5815-4704-b9e0-e48b212916af",
   "metadata": {},
   "outputs": [
    {
     "data": {
      "text/plain": [
       "5\r\n",
       "Seq<str>\r\n",
       "   0) \n",
       "1|2|3|4|5|6|7|8|9\n",
       "9|8|7|3|2|1|4|6|5\n",
       "6|5|4|9|8|7|2|3|1\n",
       "2|9|8|7|6|5|3|1|4\n",
       "7|6|5|1|3|4|8|9|2\n",
       "4|3|1|8|9|2|6|5|7\n",
       "5|4|9|6|7|3|1|2|8\n",
       "8|1|6|2|4|9|5|7|3\n",
       "3|7|2|5|1|8|9|4|6\r\n",
       "   1) \n",
       "1|2|3|4|5|6|7|8|9\n",
       "9|7|5|2|1|8|3|6|4\n",
       "6|8|4|3|9|7|5|2|1\n",
       "5|9|8|6|2|1|4|7|3\n",
       "7|4|6|9|8|3|2|1|5\n",
       "2|3|1|7|4|5|6|9|8\n",
       "4|5|9|8|7|2|1|3|6\n",
       "3|1|7|5|6|9|8|4|2\n",
       "8|6|2|1|3|4|9|5|7\r\n",
       "   2) \n",
       "1|2|3|4|5|6|7|8|9\n",
       "7|5|8|9|2|3|6|1|4\n",
       "6|4|9|1|8|7|3|5|2\n",
       "5|7|6|8|9|4|2|3|1\n",
       "4|3|2|6|1|5|8|9|7\n",
       "8|9|1|3|7|2|5|4|6\n",
       "9|6|7|5|4|8|1|2|3\n",
       "3|8|4|2|6|1|9|7|5\n",
       "2|1|5|7|3|9|4|6|8\r\n",
       "   3) \n",
       "1|2|3|4|5|6|7|8|9\n",
       "8|4|9|3|2|7|6|1|5\n",
       "7|5|6|9|1|8|4|2|3\n",
       "3|9|8|7|6|1|2|5|4\n",
       "6|7|2|5|8|4|3|9|1\n",
       "5|1|4|2|9|3|8|6|7\n",
       "9|3|5|6|4|2|1|7|8\n",
       "2|8|7|1|3|5|9|4|6\n",
       "4|6|1|8|7|9|5|3|2\r\n",
       "   4) \n",
       "1|2|3|4|5|6|7|8|9\n",
       "7|4|9|2|1|8|3|6|5\n",
       "8|5|6|9|3|7|4|2|1\n",
       "5|9|8|7|2|1|6|4|3\n",
       "3|1|2|6|8|4|5|9|7\n",
       "6|7|4|5|9|3|8|1|2\n",
       "4|6|5|1|7|9|2|3|8\n",
       "9|8|7|3|6|2|1|5|4\n",
       "2|3|1|8|4|5|9|7|6\r\n"
      ]
     },
     "metadata": {},
     "output_type": "display_data"
    }
   ],
   "source": [
    "Results := Sudoku.Solve(5, \"123456789\");\n",
    "\n",
    "Results.Boards->Count();\n",
    "Results.Boards;"
   ]
  },
  {
   "cell_type": "markdown",
   "id": "588f0cdd-b4c2-424a-9986-d730cb1e0676",
   "metadata": {},
   "source": [
    "## Generate some Rank 4 Boards\n",
    "\n",
    "The MIP solvers start to struggle when asked to generate higher rank boards.\n",
    "The SAT solver has an easy time of it."
   ]
  },
  {
   "cell_type": "code",
   "execution_count": 11,
   "id": "e8ebe482-b240-46aa-8055-e4e969232f5a",
   "metadata": {},
   "outputs": [
    {
     "data": {
      "text/plain": [
       "2\r\n",
       "Seq<str>\r\n",
       "   0) \n",
       "1|2|3|4|5|6|7|8|9|0|A|B|C|D|E|F\n",
       "9|B|0|D|F|E|4|C|7|8|1|3|6|5|A|2\n",
       "8|7|6|E|D|9|A|2|F|5|C|4|0|3|B|1\n",
       "F|C|5|A|3|1|B|0|E|6|2|D|4|8|9|7\n",
       "4|6|7|9|0|C|8|A|2|1|D|F|5|E|3|B\n",
       "A|3|8|2|B|D|6|9|5|7|0|E|1|F|4|C\n",
       "0|D|E|F|1|3|2|5|C|B|4|9|7|A|6|8\n",
       "C|5|1|B|7|4|E|F|A|3|6|8|9|2|0|D\n",
       "E|1|B|C|6|7|3|4|8|A|F|2|D|0|5|9\n",
       "2|F|D|6|9|A|0|B|3|4|5|1|8|C|7|E\n",
       "5|0|4|7|2|8|1|D|B|E|9|C|A|6|F|3\n",
       "3|9|A|8|C|F|5|E|0|D|7|6|2|B|1|4\n",
       "6|E|F|5|4|B|C|1|D|9|8|A|3|7|2|0\n",
       "7|4|C|0|8|2|9|3|6|F|E|5|B|1|D|A\n",
       "D|8|9|3|A|5|F|7|1|2|B|0|E|4|C|6\n",
       "B|A|2|1|E|0|D|6|4|C|3|7|F|9|8|5\r\n",
       "   1) \n",
       "1|2|3|4|5|6|7|8|9|0|A|B|C|D|E|F\n",
       "B|7|8|0|A|9|3|E|D|2|F|C|4|5|6|1\n",
       "5|E|6|F|C|2|0|D|4|8|1|3|B|9|7|A\n",
       "9|A|C|D|4|1|B|F|7|E|5|6|8|2|0|3\n",
       "D|9|5|A|F|C|1|6|E|3|2|7|0|B|8|4\n",
       "4|F|E|B|7|8|9|3|0|D|6|A|1|C|2|5\n",
       "0|6|7|1|D|4|2|5|C|9|B|8|3|A|F|E\n",
       "8|3|2|C|E|0|A|B|5|1|4|F|D|6|9|7\n",
       "E|B|4|7|9|F|6|1|8|A|D|0|2|3|5|C\n",
       "F|1|D|2|3|A|E|C|6|4|7|5|9|8|B|0\n",
       "C|5|A|8|2|7|D|0|F|B|3|9|E|1|4|6\n",
       "6|0|9|3|8|B|5|4|2|C|E|1|7|F|A|D\n",
       "7|D|F|9|1|3|8|A|B|5|0|4|6|E|C|2\n",
       "3|4|1|6|B|E|C|7|A|F|8|2|5|0|D|9\n",
       "2|8|0|E|6|5|F|9|1|7|C|D|A|4|3|B\n",
       "A|C|B|5|0|D|4|2|3|6|9|E|F|7|1|8\r\n"
      ]
     },
     "metadata": {},
     "output_type": "display_data"
    },
    {
     "data": {
      "text/plain": [
       "Wall time: 108.6969ms"
      ]
     },
     "metadata": {},
     "output_type": "display_data"
    }
   ],
   "source": [
    "#!time\n",
    "Results := Sudoku.Private.Core(\"1234567890ABCDEF\", 4, 2);\n",
    "\n",
    "Results.Boards->Count();\n",
    "Results.Boards;"
   ]
  },
  {
   "cell_type": "markdown",
   "id": "dfa2c48c-c1b4-4a2d-9d27-11cdbc5b192d",
   "metadata": {},
   "source": [
    "## Rank 5\n",
    "\n",
    "The SAT solver starts to struggle with rank 5."
   ]
  },
  {
   "cell_type": "code",
   "execution_count": 12,
   "id": "4ffb4c20-2b1f-45eb-9f11-cbe59d58cd9b",
   "metadata": {},
   "outputs": [
    {
     "data": {
      "text/plain": [
       "2\r\n",
       "Seq<str>\r\n",
       "   0) \n",
       "1|2|3|4|5|6|7|8|9|0|A|B|C|D|E|F|G|H|I|J|K|L|M|N|O\n",
       "O|A|9|H|7|G|E|2|I|4|M|0|F|N|L|D|C|6|K|1|5|8|3|J|B\n",
       "I|N|G|E|0|B|A|5|J|F|4|O|8|K|9|2|L|7|3|M|D|6|H|1|C\n",
       "F|D|8|C|L|N|H|K|M|3|5|I|1|J|6|0|E|O|B|4|A|G|7|2|9\n",
       "K|M|B|J|6|1|C|O|L|D|3|2|G|H|7|9|5|A|8|N|F|E|0|I|4\n",
       "3|G|4|A|K|2|8|0|E|6|C|L|N|I|D|H|J|F|M|5|9|7|O|B|1\n",
       "0|5|D|7|O|4|I|N|1|9|E|J|B|M|H|C|A|L|6|2|8|3|G|F|K\n",
       "N|C|H|9|F|O|K|J|5|L|0|7|3|A|G|B|4|E|1|8|M|2|I|6|D\n",
       "L|B|E|2|I|H|F|D|7|M|1|9|6|8|5|3|N|K|O|G|C|0|A|4|J\n",
       "6|1|M|8|J|C|B|3|A|G|F|K|O|4|2|7|0|I|D|9|L|5|N|E|H\n",
       "M|3|A|I|N|8|4|6|O|E|B|G|J|F|0|5|1|D|H|C|7|9|K|L|2\n",
       "7|O|J|0|4|M|9|L|H|K|N|5|A|1|C|I|2|8|G|6|B|F|E|D|3\n",
       "5|L|C|F|9|7|G|1|3|A|H|D|2|O|K|N|B|4|E|0|I|J|8|M|6\n",
       "H|K|2|1|E|D|J|B|0|I|L|6|7|3|8|A|F|M|9|O|4|C|5|G|N\n",
       "D|8|6|G|B|5|2|C|F|N|I|M|E|9|4|L|K|3|J|7|0|O|1|H|A\n",
       "2|I|K|5|1|3|L|H|D|O|7|A|4|B|J|8|6|G|N|F|E|M|C|9|0\n",
       "C|9|7|B|3|A|6|4|2|1|G|H|M|L|I|O|D|0|5|E|N|K|J|8|F\n",
       "E|J|0|M|G|I|5|F|K|B|8|N|9|6|O|4|3|C|L|H|2|1|D|A|7\n",
       "A|6|L|O|8|E|M|9|N|7|D|1|0|C|F|J|I|B|2|K|G|H|4|3|5\n",
       "4|H|F|N|D|J|0|G|8|C|2|E|K|5|3|1|M|9|7|A|6|B|L|O|I\n",
       "J|E|5|K|H|F|O|I|4|2|6|3|D|7|M|G|9|N|C|L|1|A|B|0|8\n",
       "G|4|O|D|C|9|N|M|B|5|J|8|L|0|1|6|7|2|A|3|H|I|F|K|E\n",
       "B|F|N|3|M|L|1|E|C|J|9|4|H|2|A|K|8|5|0|I|O|D|6|7|G\n",
       "8|7|I|6|2|0|3|A|G|H|K|F|5|E|B|M|O|1|4|D|J|N|9|C|L\n",
       "9|0|1|L|A|K|D|7|6|8|O|C|I|G|N|E|H|J|F|B|3|4|2|5|M\r\n",
       "   1) \n",
       "1|2|3|4|5|6|7|8|9|0|A|B|C|D|E|F|G|H|I|J|K|L|M|N|O\n",
       "H|E|F|O|N|D|K|G|J|3|2|M|I|1|L|9|5|C|6|7|4|0|B|8|A\n",
       "9|M|7|8|B|O|H|5|N|2|6|0|3|4|F|E|D|L|K|A|J|G|1|C|I\n",
       "6|D|J|A|C|F|M|L|B|I|K|5|G|9|8|0|N|1|O|4|2|7|E|H|3\n",
       "G|0|L|I|K|E|1|4|A|C|O|J|N|7|H|B|M|2|3|8|6|5|9|F|D\n",
       "A|J|1|K|I|G|N|C|0|8|F|E|2|H|5|4|7|B|D|O|M|3|L|6|9\n",
       "8|9|M|F|0|B|2|D|7|L|J|6|1|O|4|3|C|K|A|E|I|N|5|G|H\n",
       "D|6|H|B|4|M|F|3|E|J|L|N|A|8|9|G|1|I|0|5|C|O|7|K|2\n",
       "5|3|N|G|E|K|A|I|O|1|M|7|D|0|C|L|H|9|2|6|8|B|F|4|J\n",
       "2|C|O|L|7|4|9|6|5|H|3|I|K|G|B|J|8|M|F|N|E|A|0|D|1\n",
       "M|N|B|1|2|J|3|O|6|4|C|F|0|I|7|D|E|A|8|9|5|K|H|L|G\n",
       "I|K|8|5|9|1|0|7|2|N|G|L|B|3|M|O|6|J|H|F|D|C|A|E|4\n",
       "0|7|4|C|O|8|L|B|M|D|1|H|E|6|A|I|K|5|N|G|9|J|2|3|F\n",
       "E|G|D|H|A|C|5|9|I|F|4|8|O|J|K|M|B|3|L|2|7|1|6|0|N\n",
       "J|F|6|3|L|A|E|H|G|K|5|2|9|N|D|1|4|0|7|C|O|8|I|M|B\n",
       "4|B|G|9|H|2|O|0|3|5|N|D|J|A|6|8|F|7|M|I|L|E|C|1|K\n",
       "N|5|C|2|D|I|6|J|F|7|9|G|H|M|1|K|3|E|B|L|A|4|8|O|0\n",
       "L|1|A|E|M|H|8|K|4|9|7|O|F|B|2|5|J|N|C|0|3|D|G|I|6\n",
       "3|O|K|J|8|L|G|E|D|A|I|C|4|5|0|2|9|6|1|H|B|F|N|7|M\n",
       "F|I|0|7|6|N|B|1|C|M|8|K|L|E|3|A|O|G|4|D|H|9|J|2|5\n",
       "K|8|9|0|3|5|J|N|L|6|D|4|7|2|G|H|A|F|E|M|1|I|O|B|C\n",
       "B|H|2|N|J|3|C|M|K|O|0|A|8|F|I|7|L|D|9|1|G|6|4|5|E\n",
       "O|4|5|M|F|7|D|2|1|E|B|9|6|C|J|N|I|8|G|K|0|H|3|A|L\n",
       "C|A|E|D|1|9|I|F|8|G|H|3|M|L|O|6|0|4|5|B|N|2|K|J|7\n",
       "7|L|I|6|G|0|4|A|H|B|E|1|5|K|N|C|2|O|J|3|F|M|D|9|8\r\n"
      ]
     },
     "metadata": {},
     "output_type": "display_data"
    },
    {
     "data": {
      "text/plain": [
       "Wall time: 831.9569ms"
      ]
     },
     "metadata": {},
     "output_type": "display_data"
    }
   ],
   "source": [
    "#!time\n",
    "Results := Sudoku.Private.Core(\"1234567890ABCDEFGHIJKLMNO\", 5, 2);\n",
    "\n",
    "Results.Boards->Count();\n",
    "Results.Boards;"
   ]
  },
  {
   "cell_type": "markdown",
   "id": "16e2db0e-349f-4f22-9ccc-b394a28d1eca",
   "metadata": {},
   "source": [
    "## Rank 6?"
   ]
  },
  {
   "cell_type": "markdown",
   "id": "dfe4d666-5317-454f-bfc5-949c5c5db4b5",
   "metadata": {},
   "source": [
    "The SAT solver is overwhelmed by rank 6."
   ]
  }
 ],
 "metadata": {
  "kernelspec": {
   "display_name": "Rexl",
   "language": "Rexl",
   "name": "rexl"
  },
  "language_info": {
   "file_extension": ".rexl",
   "mimetype": "text/x-rexl",
   "name": "Rexl",
   "pygments_lexer": "rexl",
   "version": "0.22"
  }
 },
 "nbformat": 4,
 "nbformat_minor": 5
}
