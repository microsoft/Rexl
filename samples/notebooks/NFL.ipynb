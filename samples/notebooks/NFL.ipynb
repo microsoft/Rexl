{
 "cells": [
  {
   "cell_type": "markdown",
   "id": "84517286-e791-4829-b71b-e7ee274f7bc0",
   "metadata": {},
   "source": [
    "# NFL Games in 2010\n",
    "\n",
    "This notebook explores the games of the 2010 NFL season."
   ]
  },
  {
   "cell_type": "markdown",
   "id": "5475e76d-c598-4381-bca1-491a3ecdeb2c",
   "metadata": {},
   "source": [
    "## Import the data\n",
    "\n",
    "The data is defined using RexlScript in the text file `data/NFL-2010-Games.rexl`.\n",
    "The data could also come from a parquet file or rbin file."
   ]
  },
  {
   "cell_type": "code",
   "execution_count": 1,
   "id": "e383ac90-1ee3-46b6-a1fe-99717110b8c0",
   "metadata": {},
   "outputs": [],
   "source": [
    "import \"../data/NFL-2010-Games.rexl\";"
   ]
  },
  {
   "cell_type": "code",
   "execution_count": 2,
   "id": "bbce9ee6-2e3f-4918-8175-f3c94859ad8e",
   "metadata": {},
   "outputs": [
    {
     "data": {
      "text/html": [
       "<div><table><thead><tr><th>Variable</th><th>Type</th></tr></thead><tbody><tr><td>Games</td><td>{D:d, H:s, HP:i8, V:s, VP:i8, W:i8}*</td></tr></tbody></table></div>"
      ],
      "text/plain": [
       "Games : {D:d, H:s, HP:i8, V:s, VP:i8, W:i8}*"
      ]
     },
     "metadata": {},
     "output_type": "display_data"
    }
   ],
   "source": [
    "#!globals"
   ]
  },
  {
   "cell_type": "markdown",
   "id": "706e7a7c-1779-4e47-8e83-e8a372fdb162",
   "metadata": {},
   "source": [
    "The script introduced one _global_ named `Games` with the indicated type.\n",
    "The `{...}` part of the type indicates a _record_ with the indicated field names and types.\n",
    "The `*` indicates the type is _sequence of_ the record type, also called a table type.\n",
    "\n",
    "Consequently, `Games` is a table (sequence of record) with columns:\n",
    "* `D`: the date the game was played, of type `Date`, represented by `d`.\n",
    "* `H`: the name of the home team, of type `Text`, represented by `s` (for string).\n",
    "* `HP`: the number of points scored by the home team, of type `i8`, an 8-byte signed integer value.\n",
    "* `V`: the name of the visiting team, of type `Text`.\n",
    "* `VP`: the number of points scored by the visiting team, of type `i8`.\n",
    "* `W`: the week number the game was played, of type `i8`."
   ]
  },
  {
   "cell_type": "markdown",
   "id": "2b5685c3-f677-4820-b8e7-273c4a890056",
   "metadata": {},
   "source": [
    "## Basics\n",
    "\n",
    "Show the first 5 games."
   ]
  },
  {
   "cell_type": "code",
   "execution_count": 3,
   "id": "aa17a78d-538f-44f8-9020-03b32782934c",
   "metadata": {},
   "outputs": [
    {
     "data": {
      "text/plain": [
       "Seq<{Date,str,i8,str,i8,i8}>\r\n",
       "   0) { D: 2010/09/09, H: NO_, HP: 14, V: MIN, VP: 9, W: 1 }\r\n",
       "   1) { D: 2010/09/12, H: TB_, HP: 17, V: CLE, VP: 14, W: 1 }\r\n",
       "   2) { D: 2010/09/12, H: BUF, HP: 10, V: MIA, VP: 15, W: 1 }\r\n",
       "   3) { D: 2010/09/12, H: NE_, HP: 38, V: CIN, VP: 24, W: 1 }\r\n",
       "   4) { D: 2010/09/12, H: JAC, HP: 24, V: DEN, VP: 17, W: 1 }\r\n"
      ]
     },
     "metadata": {},
     "output_type": "display_data"
    }
   ],
   "source": [
    "Take(Games, 5)"
   ]
  },
  {
   "cell_type": "markdown",
   "id": "ee0c1472-5951-4908-bb78-200910992507",
   "metadata": {},
   "source": [
    "The pipe syntax is often convenient. The left operand of `->` is treated as the first argument\n",
    "of the function invocation."
   ]
  },
  {
   "cell_type": "code",
   "execution_count": 4,
   "id": "d4c1dd51-6f24-43cc-9dbf-3fd561a9e6c7",
   "metadata": {},
   "outputs": [
    {
     "data": {
      "text/plain": [
       "Seq<{Date,str,i8,str,i8,i8}>\r\n",
       "   0) { D: 2010/09/09, H: NO_, HP: 14, V: MIN, VP: 9, W: 1 }\r\n",
       "   1) { D: 2010/09/12, H: TB_, HP: 17, V: CLE, VP: 14, W: 1 }\r\n",
       "   2) { D: 2010/09/12, H: BUF, HP: 10, V: MIA, VP: 15, W: 1 }\r\n",
       "   3) { D: 2010/09/12, H: NE_, HP: 38, V: CIN, VP: 24, W: 1 }\r\n",
       "   4) { D: 2010/09/12, H: JAC, HP: 24, V: DEN, VP: 17, W: 1 }\r\n"
      ]
     },
     "metadata": {},
     "output_type": "display_data"
    }
   ],
   "source": [
    "Games->Take(5)"
   ]
  },
  {
   "cell_type": "markdown",
   "id": "f53e3015-8e13-42db-b4b6-03a5bb4e1fda",
   "metadata": {},
   "source": [
    "Show the games Seattle played, both as home team and as visiting team.\n",
    "\n",
    "Note: statements are separated by semicolon."
   ]
  },
  {
   "cell_type": "code",
   "execution_count": 5,
   "id": "da786f4e-a10f-43dc-bd6e-43a8bee44cd8",
   "metadata": {},
   "outputs": [
    {
     "data": {
      "text/plain": [
       "Seq<{Date,str,i8,str,i8,i8}>\r\n",
       "   0) { D: 2010/09/12, H: SEA, HP: 31, V: SF_, VP: 6, W: 1 }\r\n",
       "   1) { D: 2010/09/26, H: SEA, HP: 27, V: SD_, VP: 20, W: 3 }\r\n",
       "   2) { D: 2010/10/24, H: SEA, HP: 22, V: ARI, VP: 10, W: 7 }\r\n",
       "   3) { D: 2010/11/07, H: SEA, HP: 7, V: NYG, VP: 41, W: 9 }\r\n",
       "   4) { D: 2010/11/28, H: SEA, HP: 24, V: KC_, VP: 42, W: 12 }\r\n",
       "   5) { D: 2010/12/05, H: SEA, HP: 31, V: CAR, VP: 14, W: 13 }\r\n",
       "   6) { D: 2010/12/19, H: SEA, HP: 18, V: ATL, VP: 34, W: 15 }\r\n",
       "   7) { D: 2011/01/02, H: SEA, HP: 16, V: STL, VP: 6, W: 17 }\r\n",
       "Seq<{Date,str,i8,str,i8,i8}>\r\n",
       "   0) { D: 2010/09/19, H: DEN, HP: 31, V: SEA, VP: 14, W: 2 }\r\n",
       "   1) { D: 2010/10/03, H: STL, HP: 20, V: SEA, VP: 3, W: 4 }\r\n",
       "   2) { D: 2010/10/17, H: CHI, HP: 20, V: SEA, VP: 23, W: 6 }\r\n",
       "   3) { D: 2010/10/31, H: OAK, HP: 33, V: SEA, VP: 3, W: 8 }\r\n",
       "   4) { D: 2010/11/14, H: ARI, HP: 18, V: SEA, VP: 36, W: 10 }\r\n",
       "   5) { D: 2010/11/21, H: NO_, HP: 34, V: SEA, VP: 19, W: 11 }\r\n",
       "   6) { D: 2010/12/12, H: SF_, HP: 40, V: SEA, VP: 21, W: 14 }\r\n",
       "   7) { D: 2010/12/26, H: TB_, HP: 38, V: SEA, VP: 15, W: 16 }\r\n"
      ]
     },
     "metadata": {},
     "output_type": "display_data"
    }
   ],
   "source": [
    "Games->TakeIf(H = \"SEA\");\n",
    "Games->TakeIf(V = \"SEA\")"
   ]
  },
  {
   "cell_type": "markdown",
   "id": "16d5ec11-8686-4951-89b3-d56c9dfcfbeb",
   "metadata": {},
   "source": [
    "How many games were played?"
   ]
  },
  {
   "cell_type": "code",
   "execution_count": 6,
   "id": "0befadca-febd-4c15-99cb-d7d57b89b59f",
   "metadata": {},
   "outputs": [
    {
     "data": {
      "text/plain": [
       "256\r\n"
      ]
     },
     "metadata": {},
     "output_type": "display_data"
    }
   ],
   "source": [
    "Games->Count()"
   ]
  },
  {
   "cell_type": "markdown",
   "id": "10e55e3c-7160-4251-8930-1132dfd33c24",
   "metadata": {},
   "source": [
    "How many games were won by the home team?"
   ]
  },
  {
   "cell_type": "code",
   "execution_count": 7,
   "id": "caaf23b3-d96d-464b-829b-354eb99b23c4",
   "metadata": {},
   "outputs": [
    {
     "data": {
      "text/plain": [
       "143\r\n"
      ]
     },
     "metadata": {},
     "output_type": "display_data"
    }
   ],
   "source": [
    "Games->Count(HP > VP)"
   ]
  },
  {
   "cell_type": "markdown",
   "id": "15f64a9a-8696-4ba9-8fac-12cd49a87502",
   "metadata": {},
   "source": [
    "What percentage of games were won by the home team?"
   ]
  },
  {
   "cell_type": "code",
   "execution_count": 8,
   "id": "cbdf9a37-5126-4f36-ab76-5e4c3939e360",
   "metadata": {},
   "outputs": [
    {
     "data": {
      "text/plain": [
       "55.859375\r\n"
      ]
     },
     "metadata": {},
     "output_type": "display_data"
    }
   ],
   "source": [
    "Games->Count(HP > VP) / Games->Count() * 100"
   ]
  },
  {
   "cell_type": "markdown",
   "id": "d6f66b2f-3539-440e-8841-3bd63647a5d4",
   "metadata": {},
   "source": [
    "How many tie games?"
   ]
  },
  {
   "cell_type": "code",
   "execution_count": 9,
   "id": "dcc4c837-2232-4eee-adb9-d9cb3fdce92a",
   "metadata": {},
   "outputs": [
    {
     "data": {
      "text/plain": [
       "0\r\n"
      ]
     },
     "metadata": {},
     "output_type": "display_data"
    }
   ],
   "source": [
    "Games->Count(VP = HP)"
   ]
  },
  {
   "cell_type": "markdown",
   "id": "a8b7b2d2-07d9-4ce6-a181-81fcfce91d72",
   "metadata": {},
   "source": [
    "How many games were decided by less than 7 points?"
   ]
  },
  {
   "cell_type": "code",
   "execution_count": 10,
   "id": "d976d7fa-3550-46c5-a8c8-e6ce1c5e2dd5",
   "metadata": {},
   "outputs": [
    {
     "data": {
      "text/plain": [
       "103\r\n"
      ]
     },
     "metadata": {},
     "output_type": "display_data"
    }
   ],
   "source": [
    "Games->Count(Abs(HP - VP) < 7)"
   ]
  },
  {
   "cell_type": "markdown",
   "id": "7be56cbf-bd6d-42c4-9be5-b0609562fb71",
   "metadata": {},
   "source": [
    "## AllGames\n",
    "\n",
    "We want to build a `Teams` table with columns for the team name and various statistics, and a column containing\n",
    "a nested table of the games played by the team.\n",
    "\n",
    "Start with a table, `AllGames`, with columns for team `A` and team `B`, where each game is represented twice,\n",
    "once from the perspective of each team. The _augmenting record projection operator_ `+>` can add, rename, and\n",
    "drop fields. The `Chain` function chains together two sequences of the same item type.\n",
    "\n",
    "Also sort by the date and team `A`. The default sort direction is _up_ for text and _down_ for all other types,\n",
    "including the `Date` type. In this case we want to sort _up_ for both. We could either use the `SortUp` function\n",
    "or, as we've done here, use the `[<]` _directive_ for the `D` column."
   ]
  },
  {
   "cell_type": "code",
   "execution_count": 11,
   "id": "d05e457b-e0b8-4bc4-8baf-bedc150c92b7",
   "metadata": {},
   "outputs": [],
   "source": [
    "AllGames :=\n",
    "    Chain(\n",
    "        Games+>{ A: H, B: V, AP: HP, BP: VP },\n",
    "        Games+>{ A: V, B: H, AP: VP, BP: HP })\n",
    "    ->Sort([<] D, A)"
   ]
  },
  {
   "cell_type": "markdown",
   "id": "47222ba9-8cf3-40cf-bd02-e158bd271932",
   "metadata": {},
   "source": [
    "Show all records for the first week of the season. Note that the first two records are for the same game, but with the teams\n",
    "(Minnesota and New Orleans) swapped. Similarly, all records have a matching record where the teams are swapped."
   ]
  },
  {
   "cell_type": "code",
   "execution_count": 12,
   "id": "a664a071-8e66-4d23-b5c9-6d4276b3a48a",
   "metadata": {},
   "outputs": [
    {
     "data": {
      "text/plain": [
       "Seq<{str,i8,str,i8,Date,i8}>\r\n",
       "   0) { A: MIN, AP: 9, B: NO_, BP: 14, D: 2010/09/09, W: 1 }\r\n",
       "   1) { A: NO_, AP: 14, B: MIN, BP: 9, D: 2010/09/09, W: 1 }\r\n",
       "   2) { A: ARI, AP: 17, B: STL, BP: 13, D: 2010/09/12, W: 1 }\r\n",
       "   3) { A: ATL, AP: 9, B: PIT, BP: 15, D: 2010/09/12, W: 1 }\r\n",
       "   4) { A: BUF, AP: 10, B: MIA, BP: 15, D: 2010/09/12, W: 1 }\r\n",
       "   5) { A: CAR, AP: 18, B: NYG, BP: 31, D: 2010/09/12, W: 1 }\r\n",
       "   6) { A: CHI, AP: 19, B: DET, BP: 14, D: 2010/09/12, W: 1 }\r\n",
       "   7) { A: CIN, AP: 24, B: NE_, BP: 38, D: 2010/09/12, W: 1 }\r\n",
       "   8) { A: CLE, AP: 14, B: TB_, BP: 17, D: 2010/09/12, W: 1 }\r\n",
       "   9) { A: DAL, AP: 7, B: WAS, BP: 13, D: 2010/09/12, W: 1 }\r\n",
       "  10) { A: DEN, AP: 17, B: JAC, BP: 24, D: 2010/09/12, W: 1 }\r\n",
       "  11) { A: DET, AP: 14, B: CHI, BP: 19, D: 2010/09/12, W: 1 }\r\n",
       "  12) { A: GB_, AP: 27, B: PHI, BP: 20, D: 2010/09/12, W: 1 }\r\n",
       "  13) { A: HOU, AP: 34, B: IND, BP: 24, D: 2010/09/12, W: 1 }\r\n",
       "  14) { A: IND, AP: 24, B: HOU, BP: 34, D: 2010/09/12, W: 1 }\r\n",
       "  15) { A: JAC, AP: 24, B: DEN, BP: 17, D: 2010/09/12, W: 1 }\r\n",
       "  16) { A: MIA, AP: 15, B: BUF, BP: 10, D: 2010/09/12, W: 1 }\r\n",
       "  17) { A: NE_, AP: 38, B: CIN, BP: 24, D: 2010/09/12, W: 1 }\r\n",
       "  18) { A: NYG, AP: 31, B: CAR, BP: 18, D: 2010/09/12, W: 1 }\r\n",
       "  19) { A: OAK, AP: 13, B: TEN, BP: 38, D: 2010/09/12, W: 1 }\r\n",
       "  20) { A: PHI, AP: 20, B: GB_, BP: 27, D: 2010/09/12, W: 1 }\r\n",
       "  21) { A: PIT, AP: 15, B: ATL, BP: 9, D: 2010/09/12, W: 1 }\r\n",
       "  22) { A: SEA, AP: 31, B: SF_, BP: 6, D: 2010/09/12, W: 1 }\r\n",
       "  23) { A: SF_, AP: 6, B: SEA, BP: 31, D: 2010/09/12, W: 1 }\r\n",
       "  24) { A: STL, AP: 13, B: ARI, BP: 17, D: 2010/09/12, W: 1 }\r\n",
       "  25) { A: TB_, AP: 17, B: CLE, BP: 14, D: 2010/09/12, W: 1 }\r\n",
       "  26) { A: TEN, AP: 38, B: OAK, BP: 13, D: 2010/09/12, W: 1 }\r\n",
       "  27) { A: WAS, AP: 13, B: DAL, BP: 7, D: 2010/09/12, W: 1 }\r\n",
       "  28) { A: BAL, AP: 10, B: NYJ, BP: 9, D: 2010/09/13, W: 1 }\r\n",
       "  29) { A: KC_, AP: 21, B: SD_, BP: 14, D: 2010/09/13, W: 1 }\r\n",
       "  30) { A: NYJ, AP: 9, B: BAL, BP: 10, D: 2010/09/13, W: 1 }\r\n",
       "  31) { A: SD_, AP: 14, B: KC_, BP: 21, D: 2010/09/13, W: 1 }\r\n"
      ]
     },
     "metadata": {},
     "output_type": "display_data"
    }
   ],
   "source": [
    "AllGames->TakeIf(W = 1)"
   ]
  },
  {
   "cell_type": "markdown",
   "id": "022274e5-f91d-408d-b0fc-e3291f93e8e9",
   "metadata": {},
   "source": [
    "Show all games for Seattle."
   ]
  },
  {
   "cell_type": "code",
   "execution_count": 13,
   "id": "56a721cf-efe1-4c9e-8dee-4374406b09c2",
   "metadata": {},
   "outputs": [
    {
     "data": {
      "text/plain": [
       "Seq<{str,i8,str,i8,Date,i8}>\r\n",
       "   0) { A: SEA, AP: 31, B: SF_, BP: 6, D: 2010/09/12, W: 1 }\r\n",
       "   1) { A: SEA, AP: 14, B: DEN, BP: 31, D: 2010/09/19, W: 2 }\r\n",
       "   2) { A: SEA, AP: 27, B: SD_, BP: 20, D: 2010/09/26, W: 3 }\r\n",
       "   3) { A: SEA, AP: 3, B: STL, BP: 20, D: 2010/10/03, W: 4 }\r\n",
       "   4) { A: SEA, AP: 23, B: CHI, BP: 20, D: 2010/10/17, W: 6 }\r\n",
       "   5) { A: SEA, AP: 22, B: ARI, BP: 10, D: 2010/10/24, W: 7 }\r\n",
       "   6) { A: SEA, AP: 3, B: OAK, BP: 33, D: 2010/10/31, W: 8 }\r\n",
       "   7) { A: SEA, AP: 7, B: NYG, BP: 41, D: 2010/11/07, W: 9 }\r\n",
       "   8) { A: SEA, AP: 36, B: ARI, BP: 18, D: 2010/11/14, W: 10 }\r\n",
       "   9) { A: SEA, AP: 19, B: NO_, BP: 34, D: 2010/11/21, W: 11 }\r\n",
       "  10) { A: SEA, AP: 24, B: KC_, BP: 42, D: 2010/11/28, W: 12 }\r\n",
       "  11) { A: SEA, AP: 31, B: CAR, BP: 14, D: 2010/12/05, W: 13 }\r\n",
       "  12) { A: SEA, AP: 21, B: SF_, BP: 40, D: 2010/12/12, W: 14 }\r\n",
       "  13) { A: SEA, AP: 18, B: ATL, BP: 34, D: 2010/12/19, W: 15 }\r\n",
       "  14) { A: SEA, AP: 15, B: TB_, BP: 38, D: 2010/12/26, W: 16 }\r\n",
       "  15) { A: SEA, AP: 16, B: STL, BP: 6, D: 2011/01/02, W: 17 }\r\n"
      ]
     },
     "metadata": {},
     "output_type": "display_data"
    }
   ],
   "source": [
    "AllGames->TakeIf(A = \"SEA\")"
   ]
  },
  {
   "cell_type": "markdown",
   "id": "717e88df-bdaa-4434-98c7-a45f39a9d44e",
   "metadata": {},
   "source": [
    "## Teams\n",
    "\n",
    "Define `Teams` to be a grouping of `AllGames`.\n",
    "\n",
    "The `GroupBy` function is very flexible and powerful. Its usage here is fairly simple. The first\n",
    "argument specifies the grouping key to be the name of team `A` and specifies that in the\n",
    "_group record_, this value should be a field with name `Name`. The second argument specifies\n",
    "the name of the auto-generated nested table field in the group record to be `XGames`. We use\n",
    "the prefix `X` just so it is listed last in displays.\n",
    "\n",
    "We also sort by team `Name`."
   ]
  },
  {
   "cell_type": "code",
   "execution_count": 14,
   "id": "430aaea3-fcc3-496a-97dc-be77a73a476f",
   "metadata": {},
   "outputs": [],
   "source": [
    "Teams :=\n",
    "    AllGames\n",
    "    ->GroupBy(Name: A, XGames)\n",
    "    ->Sort(Name)"
   ]
  },
  {
   "cell_type": "markdown",
   "id": "1de4fc06-e8eb-4df5-ae1e-a2fde10103a5",
   "metadata": {},
   "source": [
    "Show the type of the `Teams` table. Note that the type of the `XGames` column is a table type (sequence\n",
    "of record type). Also note that the record type for `XGames` does not have the `A` field. Since field `A`\n",
    "was used as a grouping key and promoted to the group record as a field (in this case renamed to `Name`),\n",
    "`A` was dropped from the nested table."
   ]
  },
  {
   "cell_type": "code",
   "execution_count": 15,
   "id": "fcf37475-393e-499e-bd85-87cba58a4e8e",
   "metadata": {},
   "outputs": [
    {
     "data": {
      "text/plain": [
       "{Name:s, XGames:{AP:i8, B:s, BP:i8, D:d, W:i8}*}*\r\n"
      ]
     },
     "metadata": {},
     "output_type": "display_data"
    }
   ],
   "source": [
    "Teams->GetType()"
   ]
  },
  {
   "cell_type": "markdown",
   "id": "10dc772a-7a0d-42fe-b66a-09a6c5c8706f",
   "metadata": {},
   "source": [
    "Show the first 2 teams."
   ]
  },
  {
   "cell_type": "code",
   "execution_count": 16,
   "id": "b063fb0e-518d-488a-99ab-67390dc6ad20",
   "metadata": {},
   "outputs": [
    {
     "data": {
      "text/plain": [
       "Seq<{str,Seq<{i8,str,i8,Date,i8}>}>\r\n",
       "   0) { Name: ARI, \r\n",
       "        XGames: Seq<{i8,str,i8,Date,i8}>\r\n",
       "             0) { AP: 17, B: STL, BP: 13, D: 2010/09/12, W: 1 }\r\n",
       "             1) { AP: 7, B: ATL, BP: 41, D: 2010/09/19, W: 2 }\r\n",
       "             2) { AP: 24, B: OAK, BP: 23, D: 2010/09/26, W: 3 }\r\n",
       "             3) { AP: 10, B: SD_, BP: 41, D: 2010/10/03, W: 4 }\r\n",
       "             4) { AP: 30, B: NO_, BP: 20, D: 2010/10/10, W: 5 }\r\n",
       "             5) { AP: 10, B: SEA, BP: 22, D: 2010/10/24, W: 7 }\r\n",
       "             6) { AP: 35, B: TB_, BP: 38, D: 2010/10/31, W: 8 }\r\n",
       "             7) { AP: 24, B: MIN, BP: 27, D: 2010/11/07, W: 9 }\r\n",
       "             8) { AP: 18, B: SEA, BP: 36, D: 2010/11/14, W: 10 }\r\n",
       "             9) { AP: 13, B: KC_, BP: 31, D: 2010/11/21, W: 11 }\r\n",
       "            10) { AP: 6, B: SF_, BP: 27, D: 2010/11/29, W: 12 }\r\n",
       "            11) { AP: 6, B: STL, BP: 19, D: 2010/12/05, W: 13 }\r\n",
       "            12) { AP: 43, B: DEN, BP: 13, D: 2010/12/12, W: 14 }\r\n",
       "            13) { AP: 12, B: CAR, BP: 19, D: 2010/12/19, W: 15 }\r\n",
       "            14) { AP: 27, B: DAL, BP: 26, D: 2010/12/25, W: 16 }\r\n",
       "            15) { AP: 7, B: SF_, BP: 38, D: 2011/01/02, W: 17 }\r\n",
       "      }\r\n",
       "   1) { Name: ATL, \r\n",
       "        XGames: Seq<{i8,str,i8,Date,i8}>\r\n",
       "             0) { AP: 9, B: PIT, BP: 15, D: 2010/09/12, W: 1 }\r\n",
       "             1) { AP: 41, B: ARI, BP: 7, D: 2010/09/19, W: 2 }\r\n",
       "             2) { AP: 27, B: NO_, BP: 24, D: 2010/09/26, W: 3 }\r\n",
       "             3) { AP: 16, B: SF_, BP: 14, D: 2010/10/03, W: 4 }\r\n",
       "             4) { AP: 20, B: CLE, BP: 10, D: 2010/10/10, W: 5 }\r\n",
       "             5) { AP: 17, B: PHI, BP: 31, D: 2010/10/17, W: 6 }\r\n",
       "             6) { AP: 39, B: CIN, BP: 32, D: 2010/10/24, W: 7 }\r\n",
       "             7) { AP: 27, B: TB_, BP: 21, D: 2010/11/07, W: 9 }\r\n",
       "             8) { AP: 26, B: BAL, BP: 21, D: 2010/11/11, W: 10 }\r\n",
       "             9) { AP: 34, B: STL, BP: 17, D: 2010/11/21, W: 11 }\r\n",
       "            10) { AP: 20, B: GB_, BP: 17, D: 2010/11/28, W: 12 }\r\n",
       "            11) { AP: 28, B: TB_, BP: 24, D: 2010/12/05, W: 13 }\r\n",
       "            12) { AP: 31, B: CAR, BP: 10, D: 2010/12/12, W: 14 }\r\n",
       "            13) { AP: 34, B: SEA, BP: 18, D: 2010/12/19, W: 15 }\r\n",
       "            14) { AP: 14, B: NO_, BP: 17, D: 2010/12/27, W: 16 }\r\n",
       "            15) { AP: 31, B: CAR, BP: 10, D: 2011/01/02, W: 17 }\r\n",
       "      }\r\n"
      ]
     },
     "metadata": {},
     "output_type": "display_data"
    }
   ],
   "source": [
    "Teams->Take(2)"
   ]
  },
  {
   "cell_type": "markdown",
   "id": "329a4d06-a4c7-48ac-ae9c-cc455c55924d",
   "metadata": {},
   "source": [
    "Redefine `Teams`, adding some basic statistics. Note the use of the `[key]`, `[group]` and `[auto]` directives.\n",
    "\n",
    "The `[group]` directive indicates an aggregation, where the items of a group are available (as a sequence) via\n",
    "the `group` variable. In this case, we compute:\n",
    "* The size of the group (number of games played) and give that field the name `Number`.\n",
    "* The number of games won by the team (the `Wins` field).\n",
    "* The total number of points scored by the team (the `TotAP` field).\n",
    "* The total number of points scored by opponents (the `TotBP` field).\n",
    "* The total point differential (the `TotDiff` field)."
   ]
  },
  {
   "cell_type": "code",
   "execution_count": 17,
   "id": "ea8e6e0a-5e5e-4a85-bd48-a22f0430a28a",
   "metadata": {},
   "outputs": [],
   "source": [
    "Teams :=\n",
    "    AllGames\n",
    "    ->GroupBy(\n",
    "        [key] Name: A,\n",
    "        [group] Number: group->Count(),\n",
    "        [group] Wins: group->Count(AP > BP),\n",
    "        [group] TotAP: group->Sum(AP),\n",
    "        [group] TotBP: group->Sum(BP),\n",
    "        [group] TotDiff: group->Sum(AP - BP),\n",
    "        [auto] XGames)\n",
    "    ->Sort(Name)"
   ]
  },
  {
   "cell_type": "markdown",
   "id": "517d2cf9-e23c-4c86-8eab-11a3f9f7531c",
   "metadata": {},
   "source": [
    "Show the type."
   ]
  },
  {
   "cell_type": "code",
   "execution_count": 18,
   "id": "a5f6dfc6-8ac9-4491-8227-9695f17e05b1",
   "metadata": {},
   "outputs": [
    {
     "data": {
      "text/plain": [
       "{Name:s, Number:i8, TotAP:i8, TotBP:i8, TotDiff:i8, Wins:i8, XGames:{AP:i8, B:s, BP:i8, D:d, W:i8}*}*\r\n"
      ]
     },
     "metadata": {},
     "output_type": "display_data"
    }
   ],
   "source": [
    "Teams->GetType()"
   ]
  },
  {
   "cell_type": "markdown",
   "id": "a403ad2f-ebab-41e8-b6cd-d4342c6bf87a",
   "metadata": {},
   "source": [
    "Show the first two teams."
   ]
  },
  {
   "cell_type": "code",
   "execution_count": 19,
   "id": "29f5a3d2-f8ca-4547-93e8-bea945b1ae0f",
   "metadata": {},
   "outputs": [
    {
     "data": {
      "text/plain": [
       "Seq<{str,i8,i8,i8,i8,i8,Seq<{i8,str,i8,Date,i8}>}>\r\n",
       "   0) { Name: ARI, Number: 16, TotAP: 289, TotBP: 434, TotDiff: -145, Wins: 5, \r\n",
       "        XGames: Seq<{i8,str,i8,Date,i8}>\r\n",
       "             0) { AP: 17, B: STL, BP: 13, D: 2010/09/12, W: 1 }\r\n",
       "             1) { AP: 7, B: ATL, BP: 41, D: 2010/09/19, W: 2 }\r\n",
       "             2) { AP: 24, B: OAK, BP: 23, D: 2010/09/26, W: 3 }\r\n",
       "             3) { AP: 10, B: SD_, BP: 41, D: 2010/10/03, W: 4 }\r\n",
       "             4) { AP: 30, B: NO_, BP: 20, D: 2010/10/10, W: 5 }\r\n",
       "             5) { AP: 10, B: SEA, BP: 22, D: 2010/10/24, W: 7 }\r\n",
       "             6) { AP: 35, B: TB_, BP: 38, D: 2010/10/31, W: 8 }\r\n",
       "             7) { AP: 24, B: MIN, BP: 27, D: 2010/11/07, W: 9 }\r\n",
       "             8) { AP: 18, B: SEA, BP: 36, D: 2010/11/14, W: 10 }\r\n",
       "             9) { AP: 13, B: KC_, BP: 31, D: 2010/11/21, W: 11 }\r\n",
       "            10) { AP: 6, B: SF_, BP: 27, D: 2010/11/29, W: 12 }\r\n",
       "            11) { AP: 6, B: STL, BP: 19, D: 2010/12/05, W: 13 }\r\n",
       "            12) { AP: 43, B: DEN, BP: 13, D: 2010/12/12, W: 14 }\r\n",
       "            13) { AP: 12, B: CAR, BP: 19, D: 2010/12/19, W: 15 }\r\n",
       "            14) { AP: 27, B: DAL, BP: 26, D: 2010/12/25, W: 16 }\r\n",
       "            15) { AP: 7, B: SF_, BP: 38, D: 2011/01/02, W: 17 }\r\n",
       "      }\r\n",
       "   1) { Name: ATL, Number: 16, TotAP: 414, TotBP: 288, TotDiff: 126, Wins: 13, \r\n",
       "        XGames: Seq<{i8,str,i8,Date,i8}>\r\n",
       "             0) { AP: 9, B: PIT, BP: 15, D: 2010/09/12, W: 1 }\r\n",
       "             1) { AP: 41, B: ARI, BP: 7, D: 2010/09/19, W: 2 }\r\n",
       "             2) { AP: 27, B: NO_, BP: 24, D: 2010/09/26, W: 3 }\r\n",
       "             3) { AP: 16, B: SF_, BP: 14, D: 2010/10/03, W: 4 }\r\n",
       "             4) { AP: 20, B: CLE, BP: 10, D: 2010/10/10, W: 5 }\r\n",
       "             5) { AP: 17, B: PHI, BP: 31, D: 2010/10/17, W: 6 }\r\n",
       "             6) { AP: 39, B: CIN, BP: 32, D: 2010/10/24, W: 7 }\r\n",
       "             7) { AP: 27, B: TB_, BP: 21, D: 2010/11/07, W: 9 }\r\n",
       "             8) { AP: 26, B: BAL, BP: 21, D: 2010/11/11, W: 10 }\r\n",
       "             9) { AP: 34, B: STL, BP: 17, D: 2010/11/21, W: 11 }\r\n",
       "            10) { AP: 20, B: GB_, BP: 17, D: 2010/11/28, W: 12 }\r\n",
       "            11) { AP: 28, B: TB_, BP: 24, D: 2010/12/05, W: 13 }\r\n",
       "            12) { AP: 31, B: CAR, BP: 10, D: 2010/12/12, W: 14 }\r\n",
       "            13) { AP: 34, B: SEA, BP: 18, D: 2010/12/19, W: 15 }\r\n",
       "            14) { AP: 14, B: NO_, BP: 17, D: 2010/12/27, W: 16 }\r\n",
       "            15) { AP: 31, B: CAR, BP: 10, D: 2011/01/02, W: 17 }\r\n",
       "      }\r\n"
      ]
     },
     "metadata": {},
     "output_type": "display_data"
    }
   ],
   "source": [
    "Teams->Take(2)"
   ]
  },
  {
   "cell_type": "markdown",
   "id": "f3833ab1-10cd-45ca-abc2-f2b65a9a0d5e",
   "metadata": {},
   "source": [
    "Show all teams without the `XGames` column, sorted by multiple keys.\n",
    "\n",
    "The _augmenting record projection operator_ `+>` drops a field when the field\n",
    "name is followed by a `null` literal.\n",
    "\n",
    "We sort by the number of wins, with tie breaker total point differential,\n",
    "with further tie breaker of the team name. Note that `IND` is listed before `NYG`\n",
    "because of this final tie breaker. The default sort order is _down_ for\n",
    "numeric and _up_ for text."
   ]
  },
  {
   "cell_type": "code",
   "execution_count": 20,
   "id": "a67e8b63-3eff-4f4a-8f9c-ec8ce3cdef92",
   "metadata": {},
   "outputs": [
    {
     "data": {
      "text/plain": [
       "Seq<{str,i8,i8,i8,i8,i8}>\r\n",
       "   0) { Name: NE_, Number: 16, TotAP: 518, TotBP: 313, TotDiff: 205, Wins: 14 }\r\n",
       "   1) { Name: ATL, Number: 16, TotAP: 414, TotBP: 288, TotDiff: 126, Wins: 13 }\r\n",
       "   2) { Name: PIT, Number: 16, TotAP: 375, TotBP: 232, TotDiff: 143, Wins: 12 }\r\n",
       "   3) { Name: BAL, Number: 16, TotAP: 357, TotBP: 270, TotDiff: 87, Wins: 12 }\r\n",
       "   4) { Name: NO_, Number: 16, TotAP: 384, TotBP: 307, TotDiff: 77, Wins: 11 }\r\n",
       "   5) { Name: NYJ, Number: 16, TotAP: 367, TotBP: 304, TotDiff: 63, Wins: 11 }\r\n",
       "   6) { Name: CHI, Number: 16, TotAP: 334, TotBP: 286, TotDiff: 48, Wins: 11 }\r\n",
       "   7) { Name: GB_, Number: 16, TotAP: 388, TotBP: 240, TotDiff: 148, Wins: 10 }\r\n",
       "   8) { Name: PHI, Number: 16, TotAP: 439, TotBP: 377, TotDiff: 62, Wins: 10 }\r\n",
       "   9) { Name: IND, Number: 16, TotAP: 435, TotBP: 388, TotDiff: 47, Wins: 10 }\r\n",
       "  10) { Name: NYG, Number: 16, TotAP: 394, TotBP: 347, TotDiff: 47, Wins: 10 }\r\n",
       "  11) { Name: KC_, Number: 16, TotAP: 366, TotBP: 326, TotDiff: 40, Wins: 10 }\r\n",
       "  12) { Name: TB_, Number: 16, TotAP: 341, TotBP: 318, TotDiff: 23, Wins: 10 }\r\n",
       "  13) { Name: SD_, Number: 16, TotAP: 441, TotBP: 322, TotDiff: 119, Wins: 9 }\r\n",
       "  14) { Name: OAK, Number: 16, TotAP: 410, TotBP: 371, TotDiff: 39, Wins: 8 }\r\n",
       "  15) { Name: JAC, Number: 16, TotAP: 353, TotBP: 419, TotDiff: -66, Wins: 8 }\r\n",
       "  16) { Name: STL, Number: 16, TotAP: 289, TotBP: 328, TotDiff: -39, Wins: 7 }\r\n",
       "  17) { Name: MIA, Number: 16, TotAP: 263, TotBP: 333, TotDiff: -70, Wins: 7 }\r\n",
       "  18) { Name: SEA, Number: 16, TotAP: 310, TotBP: 407, TotDiff: -97, Wins: 7 }\r\n",
       "  19) { Name: TEN, Number: 16, TotAP: 356, TotBP: 339, TotDiff: 17, Wins: 6 }\r\n",
       "  20) { Name: DET, Number: 16, TotAP: 362, TotBP: 359, TotDiff: 3, Wins: 6 }\r\n",
       "  21) { Name: HOU, Number: 16, TotAP: 390, TotBP: 427, TotDiff: -37, Wins: 6 }\r\n",
       "  22) { Name: SF_, Number: 16, TotAP: 305, TotBP: 346, TotDiff: -41, Wins: 6 }\r\n",
       "  23) { Name: DAL, Number: 16, TotAP: 394, TotBP: 436, TotDiff: -42, Wins: 6 }\r\n",
       "  24) { Name: MIN, Number: 16, TotAP: 281, TotBP: 348, TotDiff: -67, Wins: 6 }\r\n",
       "  25) { Name: WAS, Number: 16, TotAP: 302, TotBP: 377, TotDiff: -75, Wins: 6 }\r\n",
       "  26) { Name: CLE, Number: 16, TotAP: 271, TotBP: 332, TotDiff: -61, Wins: 5 }\r\n",
       "  27) { Name: ARI, Number: 16, TotAP: 289, TotBP: 434, TotDiff: -145, Wins: 5 }\r\n",
       "  28) { Name: CIN, Number: 16, TotAP: 322, TotBP: 395, TotDiff: -73, Wins: 4 }\r\n",
       "  29) { Name: DEN, Number: 16, TotAP: 344, TotBP: 471, TotDiff: -127, Wins: 4 }\r\n",
       "  30) { Name: BUF, Number: 16, TotAP: 283, TotBP: 425, TotDiff: -142, Wins: 4 }\r\n",
       "  31) { Name: CAR, Number: 16, TotAP: 196, TotBP: 408, TotDiff: -212, Wins: 2 }\r\n"
      ]
     },
     "metadata": {},
     "output_type": "display_data"
    }
   ],
   "source": [
    "Teams\n",
    "    +>{ XGames: null }\n",
    "    ->Sort(Wins, TotDiff, Name)"
   ]
  },
  {
   "cell_type": "markdown",
   "id": "ab3af727-8410-48fb-a020-03b437c0bbc6",
   "metadata": {},
   "source": [
    "Define `TeamStats` to be the above."
   ]
  },
  {
   "cell_type": "code",
   "execution_count": 21,
   "id": "c5a697d6-6aac-44c1-ac6f-6144d55ffad8",
   "metadata": {},
   "outputs": [],
   "source": [
    "TeamStats := Teams\n",
    "    +>{ XGames: null }\n",
    "    ->Sort(Wins, TotDiff, Name)"
   ]
  },
  {
   "cell_type": "code",
   "execution_count": 22,
   "id": "e66e40b6-6e86-4117-953c-4f98fd93a0b9",
   "metadata": {},
   "outputs": [
    {
     "data": {
      "text/plain": [
       "Seq<{str,i8,i8,i8,i8,i8}>\r\n",
       "   0) { Name: NE_, Number: 16, TotAP: 518, TotBP: 313, TotDiff: 205, Wins: 14 }\r\n",
       "   1) { Name: ATL, Number: 16, TotAP: 414, TotBP: 288, TotDiff: 126, Wins: 13 }\r\n",
       "   2) { Name: PIT, Number: 16, TotAP: 375, TotBP: 232, TotDiff: 143, Wins: 12 }\r\n",
       "   3) { Name: BAL, Number: 16, TotAP: 357, TotBP: 270, TotDiff: 87, Wins: 12 }\r\n",
       "   4) { Name: NO_, Number: 16, TotAP: 384, TotBP: 307, TotDiff: 77, Wins: 11 }\r\n",
       "   5) { Name: NYJ, Number: 16, TotAP: 367, TotBP: 304, TotDiff: 63, Wins: 11 }\r\n",
       "   6) { Name: CHI, Number: 16, TotAP: 334, TotBP: 286, TotDiff: 48, Wins: 11 }\r\n",
       "   7) { Name: GB_, Number: 16, TotAP: 388, TotBP: 240, TotDiff: 148, Wins: 10 }\r\n",
       "   8) { Name: PHI, Number: 16, TotAP: 439, TotBP: 377, TotDiff: 62, Wins: 10 }\r\n",
       "   9) { Name: IND, Number: 16, TotAP: 435, TotBP: 388, TotDiff: 47, Wins: 10 }\r\n",
       "  10) { Name: NYG, Number: 16, TotAP: 394, TotBP: 347, TotDiff: 47, Wins: 10 }\r\n",
       "  11) { Name: KC_, Number: 16, TotAP: 366, TotBP: 326, TotDiff: 40, Wins: 10 }\r\n",
       "  12) { Name: TB_, Number: 16, TotAP: 341, TotBP: 318, TotDiff: 23, Wins: 10 }\r\n",
       "  13) { Name: SD_, Number: 16, TotAP: 441, TotBP: 322, TotDiff: 119, Wins: 9 }\r\n",
       "  14) { Name: OAK, Number: 16, TotAP: 410, TotBP: 371, TotDiff: 39, Wins: 8 }\r\n",
       "  15) { Name: JAC, Number: 16, TotAP: 353, TotBP: 419, TotDiff: -66, Wins: 8 }\r\n",
       "  16) { Name: STL, Number: 16, TotAP: 289, TotBP: 328, TotDiff: -39, Wins: 7 }\r\n",
       "  17) { Name: MIA, Number: 16, TotAP: 263, TotBP: 333, TotDiff: -70, Wins: 7 }\r\n",
       "  18) { Name: SEA, Number: 16, TotAP: 310, TotBP: 407, TotDiff: -97, Wins: 7 }\r\n",
       "  19) { Name: TEN, Number: 16, TotAP: 356, TotBP: 339, TotDiff: 17, Wins: 6 }\r\n",
       "  20) { Name: DET, Number: 16, TotAP: 362, TotBP: 359, TotDiff: 3, Wins: 6 }\r\n",
       "  21) { Name: HOU, Number: 16, TotAP: 390, TotBP: 427, TotDiff: -37, Wins: 6 }\r\n",
       "  22) { Name: SF_, Number: 16, TotAP: 305, TotBP: 346, TotDiff: -41, Wins: 6 }\r\n",
       "  23) { Name: DAL, Number: 16, TotAP: 394, TotBP: 436, TotDiff: -42, Wins: 6 }\r\n",
       "  24) { Name: MIN, Number: 16, TotAP: 281, TotBP: 348, TotDiff: -67, Wins: 6 }\r\n",
       "  25) { Name: WAS, Number: 16, TotAP: 302, TotBP: 377, TotDiff: -75, Wins: 6 }\r\n",
       "  26) { Name: CLE, Number: 16, TotAP: 271, TotBP: 332, TotDiff: -61, Wins: 5 }\r\n",
       "  27) { Name: ARI, Number: 16, TotAP: 289, TotBP: 434, TotDiff: -145, Wins: 5 }\r\n",
       "  28) { Name: CIN, Number: 16, TotAP: 322, TotBP: 395, TotDiff: -73, Wins: 4 }\r\n",
       "  29) { Name: DEN, Number: 16, TotAP: 344, TotBP: 471, TotDiff: -127, Wins: 4 }\r\n",
       "  30) { Name: BUF, Number: 16, TotAP: 283, TotBP: 425, TotDiff: -142, Wins: 4 }\r\n",
       "  31) { Name: CAR, Number: 16, TotAP: 196, TotBP: 408, TotDiff: -212, Wins: 2 }\r\n"
      ]
     },
     "metadata": {},
     "output_type": "display_data"
    }
   ],
   "source": [
    "TeamStats"
   ]
  },
  {
   "cell_type": "markdown",
   "id": "ef88ce5a-3454-4470-b804-c2aa08a3d6ae",
   "metadata": {},
   "source": [
    "## Divisions\n",
    "\n",
    "Now we consider which teams played each other and how many times. To start, look only at\n",
    "Seattle and Arizona, group their games by opponent name, and count the number of items\n",
    "in each group. Since there is no argument with the `[auto]` directive, the items of\n",
    "the group are not present in a nested table."
   ]
  },
  {
   "cell_type": "code",
   "execution_count": 23,
   "id": "f785addc-f5be-4153-91ae-c05007f81e1f",
   "metadata": {},
   "outputs": [
    {
     "data": {
      "text/plain": [
       "Seq<{str,Seq<{i8,str}>}>\r\n",
       "   0) { Name: ARI, \r\n",
       "        XOpps: Seq<{i8,str}>\r\n",
       "             0) { Num: 2, Opp: STL }\r\n",
       "             1) { Num: 1, Opp: ATL }\r\n",
       "             2) { Num: 1, Opp: OAK }\r\n",
       "             3) { Num: 1, Opp: SD_ }\r\n",
       "             4) { Num: 1, Opp: NO_ }\r\n",
       "             5) { Num: 2, Opp: SEA }\r\n",
       "             6) { Num: 1, Opp: TB_ }\r\n",
       "             7) { Num: 1, Opp: MIN }\r\n",
       "             8) { Num: 1, Opp: KC_ }\r\n",
       "             9) { Num: 2, Opp: SF_ }\r\n",
       "            10) { Num: 1, Opp: DEN }\r\n",
       "            11) { Num: 1, Opp: CAR }\r\n",
       "            12) { Num: 1, Opp: DAL }\r\n",
       "      }\r\n",
       "   1) { Name: SEA, \r\n",
       "        XOpps: Seq<{i8,str}>\r\n",
       "             0) { Num: 2, Opp: SF_ }\r\n",
       "             1) { Num: 1, Opp: DEN }\r\n",
       "             2) { Num: 1, Opp: SD_ }\r\n",
       "             3) { Num: 2, Opp: STL }\r\n",
       "             4) { Num: 1, Opp: CHI }\r\n",
       "             5) { Num: 2, Opp: ARI }\r\n",
       "             6) { Num: 1, Opp: OAK }\r\n",
       "             7) { Num: 1, Opp: NYG }\r\n",
       "             8) { Num: 1, Opp: NO_ }\r\n",
       "             9) { Num: 1, Opp: KC_ }\r\n",
       "            10) { Num: 1, Opp: CAR }\r\n",
       "            11) { Num: 1, Opp: ATL }\r\n",
       "            12) { Num: 1, Opp: TB_ }\r\n",
       "      }\r\n"
      ]
     },
     "metadata": {},
     "output_type": "display_data"
    }
   ],
   "source": [
    "Teams\n",
    "    ->TakeIf(Name in [ \"SEA\", \"ARI\" ])\n",
    "    ->{\n",
    "        Name,\n",
    "        XOpps: XGames->GroupBy([key] Opp: B, [group] Num: group->Count())\n",
    "      }"
   ]
  },
  {
   "cell_type": "markdown",
   "id": "66de1b59-94c6-450e-88ab-16cff6a89fea",
   "metadata": {},
   "source": [
    "Keep only rivals, that is, teams that were played more than once."
   ]
  },
  {
   "cell_type": "code",
   "execution_count": 24,
   "id": "872a7028-1ecb-40ed-8936-1dfd9f34eabe",
   "metadata": {},
   "outputs": [
    {
     "data": {
      "text/plain": [
       "Seq<{str,Seq<{i8,str}>}>\r\n",
       "   0) { Name: ARI, \r\n",
       "        XOpps: Seq<{i8,str}>\r\n",
       "             0) { Num: 2, Opp: STL }\r\n",
       "             1) { Num: 2, Opp: SEA }\r\n",
       "             2) { Num: 2, Opp: SF_ }\r\n",
       "      }\r\n",
       "   1) { Name: SEA, \r\n",
       "        XOpps: Seq<{i8,str}>\r\n",
       "             0) { Num: 2, Opp: SF_ }\r\n",
       "             1) { Num: 2, Opp: STL }\r\n",
       "             2) { Num: 2, Opp: ARI }\r\n",
       "      }\r\n"
      ]
     },
     "metadata": {},
     "output_type": "display_data"
    }
   ],
   "source": [
    "Teams\n",
    "    ->TakeIf(Name in [ \"SEA\", \"ARI\" ])\n",
    "    ->{\n",
    "        Name,\n",
    "        XOpps: XGames\n",
    "            ->GroupBy([key] Opp: B, [group] Num: group->Count())\n",
    "            ->TakeIf(Num > 1)\n",
    "      }"
   ]
  },
  {
   "cell_type": "markdown",
   "id": "3687f903-4d16-42c7-9b55-1f83c89669bf",
   "metadata": {},
   "source": [
    "Sort the rival names, with the team name added in, and glue them together as a single text value.\n",
    "Call this the team's \"division\"."
   ]
  },
  {
   "cell_type": "code",
   "execution_count": 25,
   "id": "72794aa5-ac29-42a1-af9f-442cce4a27b3",
   "metadata": {},
   "outputs": [
    {
     "data": {
      "text/plain": [
       "Seq<{str,str}>\r\n",
       "   0) { Name: ARI, XDiv: ARI|SEA|SF_|STL }\r\n",
       "   1) { Name: SEA, XDiv: ARI|SEA|SF_|STL }\r\n"
      ]
     },
     "metadata": {},
     "output_type": "display_data"
    }
   ],
   "source": [
    "Teams\n",
    "    ->TakeIf(Name in [ \"SEA\", \"ARI\" ])\n",
    "    ->{\n",
    "        Name,\n",
    "        XDiv: XGames\n",
    "            ->GroupBy([key] Opp: B, [group] Num: group->Count())\n",
    "            ->TakeIf(Num > 1)\n",
    "            ->(Opp)\n",
    "            ->Chain([ Name ])\n",
    "            ->Sort()\n",
    "            ->Concat(\"|\")\n",
    "      }"
   ]
  },
  {
   "cell_type": "markdown",
   "id": "5bcbf5e7-7728-4aa5-aef0-2cc3927fee42",
   "metadata": {},
   "source": [
    "Add `XDiv` to all teams."
   ]
  },
  {
   "cell_type": "code",
   "execution_count": 26,
   "id": "44d40fa5-fb91-4efa-8e85-baf6ab22996c",
   "metadata": {},
   "outputs": [],
   "source": [
    "TeamsWithDiv :=\n",
    "    Teams+>\n",
    "    {\n",
    "        XDiv: XGames\n",
    "            ->GroupBy([key] Opp: B, [group] Num: group->Count())\n",
    "            ->TakeIf(Num > 1)\n",
    "            ->(Opp)\n",
    "            ->Chain([ Name ])\n",
    "            ->Sort()\n",
    "            ->Concat(\"|\")\n",
    "    }"
   ]
  },
  {
   "cell_type": "markdown",
   "id": "068613be-8ba3-4a80-abb2-1cabf84adfee",
   "metadata": {},
   "source": [
    "Show team name and division."
   ]
  },
  {
   "cell_type": "code",
   "execution_count": 27,
   "id": "7b30be98-a0b2-4ef5-967f-71f638a1e8cf",
   "metadata": {},
   "outputs": [
    {
     "data": {
      "text/plain": [
       "Seq<{str,str}>\r\n",
       "   0) { Name: ARI, XDiv: ARI|SEA|SF_|STL }\r\n",
       "   1) { Name: ATL, XDiv: ATL|CAR|NO_|TB_ }\r\n",
       "   2) { Name: BAL, XDiv: BAL|CIN|CLE|PIT }\r\n",
       "   3) { Name: BUF, XDiv: BUF|MIA|NE_|NYJ }\r\n",
       "   4) { Name: CAR, XDiv: ATL|CAR|NO_|TB_ }\r\n",
       "   5) { Name: CHI, XDiv: CHI|DET|GB_|MIN }\r\n",
       "   6) { Name: CIN, XDiv: BAL|CIN|CLE|PIT }\r\n",
       "   7) { Name: CLE, XDiv: BAL|CIN|CLE|PIT }\r\n",
       "   8) { Name: DAL, XDiv: DAL|NYG|PHI|WAS }\r\n",
       "   9) { Name: DEN, XDiv: DEN|KC_|OAK|SD_ }\r\n",
       "  10) { Name: DET, XDiv: CHI|DET|GB_|MIN }\r\n",
       "  11) { Name: GB_, XDiv: CHI|DET|GB_|MIN }\r\n",
       "  12) { Name: HOU, XDiv: HOU|IND|JAC|TEN }\r\n",
       "  13) { Name: IND, XDiv: HOU|IND|JAC|TEN }\r\n",
       "  14) { Name: JAC, XDiv: HOU|IND|JAC|TEN }\r\n",
       "  15) { Name: KC_, XDiv: DEN|KC_|OAK|SD_ }\r\n",
       "  16) { Name: MIA, XDiv: BUF|MIA|NE_|NYJ }\r\n",
       "  17) { Name: MIN, XDiv: CHI|DET|GB_|MIN }\r\n",
       "  18) { Name: NE_, XDiv: BUF|MIA|NE_|NYJ }\r\n",
       "  19) { Name: NO_, XDiv: ATL|CAR|NO_|TB_ }\r\n",
       "  20) { Name: NYG, XDiv: DAL|NYG|PHI|WAS }\r\n",
       "  21) { Name: NYJ, XDiv: BUF|MIA|NE_|NYJ }\r\n",
       "  22) { Name: OAK, XDiv: DEN|KC_|OAK|SD_ }\r\n",
       "  23) { Name: PHI, XDiv: DAL|NYG|PHI|WAS }\r\n",
       "  24) { Name: PIT, XDiv: BAL|CIN|CLE|PIT }\r\n",
       "  25) { Name: SD_, XDiv: DEN|KC_|OAK|SD_ }\r\n",
       "  26) { Name: SEA, XDiv: ARI|SEA|SF_|STL }\r\n",
       "  27) { Name: SF_, XDiv: ARI|SEA|SF_|STL }\r\n",
       "  28) { Name: STL, XDiv: ARI|SEA|SF_|STL }\r\n",
       "  29) { Name: TB_, XDiv: ATL|CAR|NO_|TB_ }\r\n",
       "  30) { Name: TEN, XDiv: HOU|IND|JAC|TEN }\r\n",
       "  31) { Name: WAS, XDiv: DAL|NYG|PHI|WAS }\r\n"
      ]
     },
     "metadata": {},
     "output_type": "display_data"
    }
   ],
   "source": [
    "TeamsWithDiv->{ Name, XDiv }"
   ]
  },
  {
   "cell_type": "markdown",
   "id": "e3d46bd9-0b91-431e-8c6c-edfea2716e85",
   "metadata": {},
   "source": [
    "Show distinct divisions."
   ]
  },
  {
   "cell_type": "code",
   "execution_count": 28,
   "id": "6b74aeb1-6fd8-4416-8dd7-9b46c4d27951",
   "metadata": {},
   "outputs": [
    {
     "data": {
      "text/plain": [
       "Seq<str>\r\n",
       "   0) ARI|SEA|SF_|STL\r\n",
       "   1) ATL|CAR|NO_|TB_\r\n",
       "   2) BAL|CIN|CLE|PIT\r\n",
       "   3) BUF|MIA|NE_|NYJ\r\n",
       "   4) CHI|DET|GB_|MIN\r\n",
       "   5) DAL|NYG|PHI|WAS\r\n",
       "   6) DEN|KC_|OAK|SD_\r\n",
       "   7) HOU|IND|JAC|TEN\r\n"
      ]
     },
     "metadata": {},
     "output_type": "display_data"
    }
   ],
   "source": [
    "TeamsWithDiv\n",
    "    ->GroupBy(XDiv, [auto] XTeams)\n",
    "    .XDiv"
   ]
  },
  {
   "cell_type": "markdown",
   "id": "de5a73c5-6eb6-49ca-8884-9105ef4143e0",
   "metadata": {},
   "source": [
    "Show distinct divisions in a simpler way."
   ]
  },
  {
   "cell_type": "code",
   "execution_count": 29,
   "id": "854c0a68-9d4f-465e-859f-15d2058d80c0",
   "metadata": {},
   "outputs": [
    {
     "data": {
      "text/plain": [
       "Seq<str>\r\n",
       "   0) ARI|SEA|SF_|STL\r\n",
       "   1) ATL|CAR|NO_|TB_\r\n",
       "   2) BAL|CIN|CLE|PIT\r\n",
       "   3) BUF|MIA|NE_|NYJ\r\n",
       "   4) CHI|DET|GB_|MIN\r\n",
       "   5) DAL|NYG|PHI|WAS\r\n",
       "   6) DEN|KC_|OAK|SD_\r\n",
       "   7) HOU|IND|JAC|TEN\r\n"
      ]
     },
     "metadata": {},
     "output_type": "display_data"
    }
   ],
   "source": [
    "TeamsWithDiv.XDiv->Distinct()"
   ]
  },
  {
   "cell_type": "markdown",
   "id": "c1032bb5-6ff1-4d56-b163-bcaf0b9a6b3a",
   "metadata": {},
   "source": [
    "Make a `Divisions` table with some statistics."
   ]
  },
  {
   "cell_type": "code",
   "execution_count": 30,
   "id": "3f55c650-677a-4eb5-a36b-c1781dc79118",
   "metadata": {},
   "outputs": [],
   "source": [
    "Divisions :=\n",
    "    TeamsWithDiv\n",
    "    ->GroupBy(\n",
    "        [key] Div: XDiv,\n",
    "        [group] Wins: group->Sum(Wins),\n",
    "        [group] TotAP: group->Sum(TotAP),\n",
    "        [group] TotBP: group->Sum(TotBP),\n",
    "        [group] TotDiff: group->Sum(TotDiff),\n",
    "        [auto] XTeams)"
   ]
  },
  {
   "cell_type": "markdown",
   "id": "8d84c47c-0ef9-47f4-9f8d-b7bc2ef4821d",
   "metadata": {},
   "source": [
    "Show the type. Note that the nested `XTeams` tables include a further nested `XGames` table."
   ]
  },
  {
   "cell_type": "code",
   "execution_count": 31,
   "id": "fe4ea90e-a9df-484f-8773-c710252e20de",
   "metadata": {},
   "outputs": [
    {
     "data": {
      "text/plain": [
       "{Div:s, TotAP:i8, TotBP:i8, TotDiff:i8, Wins:i8, XTeams:{Name:s, Number:i8, TotAP:i8, TotBP:i8, TotDiff:i8, Wins:i8, XGames:{AP:i8, B:s, BP:i8, D:d, W:i8}*}*}*\r\n"
      ]
     },
     "metadata": {},
     "output_type": "display_data"
    }
   ],
   "source": [
    "Divisions->GetType()"
   ]
  },
  {
   "cell_type": "markdown",
   "id": "9a039285-6b6d-4964-96d7-65cc54e4ed2b",
   "metadata": {},
   "source": [
    "Show the division statistics, without the nested `XTeams` tables."
   ]
  },
  {
   "cell_type": "code",
   "execution_count": 32,
   "id": "197154bc-3f8e-469e-b9f9-a0aca6fff08e",
   "metadata": {},
   "outputs": [
    {
     "data": {
      "text/plain": [
       "Seq<{str,i8,i8,i8,i8}>\r\n",
       "   0) { Div: BUF|MIA|NE_|NYJ, TotAP: 1431, TotBP: 1375, TotDiff: 56, Wins: 36 }\r\n",
       "   1) { Div: ATL|CAR|NO_|TB_, TotAP: 1335, TotBP: 1321, TotDiff: 14, Wins: 36 }\r\n",
       "   2) { Div: CHI|DET|GB_|MIN, TotAP: 1365, TotBP: 1233, TotDiff: 132, Wins: 33 }\r\n",
       "   3) { Div: BAL|CIN|CLE|PIT, TotAP: 1325, TotBP: 1229, TotDiff: 96, Wins: 33 }\r\n",
       "   4) { Div: DAL|NYG|PHI|WAS, TotAP: 1529, TotBP: 1537, TotDiff: -8, Wins: 32 }\r\n",
       "   5) { Div: DEN|KC_|OAK|SD_, TotAP: 1561, TotBP: 1490, TotDiff: 71, Wins: 31 }\r\n",
       "   6) { Div: HOU|IND|JAC|TEN, TotAP: 1534, TotBP: 1573, TotDiff: -39, Wins: 30 }\r\n",
       "   7) { Div: ARI|SEA|SF_|STL, TotAP: 1193, TotBP: 1515, TotDiff: -322, Wins: 25 }\r\n"
      ]
     },
     "metadata": {},
     "output_type": "display_data"
    }
   ],
   "source": [
    "Divisions\n",
    "    +>{ XTeams: null }\n",
    "    ->Sort(Wins, TotDiff, Div)"
   ]
  },
  {
   "cell_type": "markdown",
   "id": "fb34f638-ffde-46ef-bb20-7609ee388fd1",
   "metadata": {},
   "source": [
    "## Further Exploration\n",
    "\n",
    "Possible further exploration could include:\n",
    "* What divisions played each other?\n",
    "* Were there some division pairs that had many more games than other pairs?\n",
    "* Is there structure among divisions? That is, just as each team belongs to a clique of four teams, called its division, is there a grouping of divisions?"
   ]
  },
  {
   "cell_type": "code",
   "execution_count": null,
   "id": "20740ad8-a58e-4d0a-95d2-f74ed127566b",
   "metadata": {},
   "outputs": [],
   "source": []
  }
 ],
 "metadata": {
  "kernelspec": {
   "display_name": "Rexl",
   "language": "Rexl",
   "name": "rexl"
  },
  "language_info": {
   "file_extension": ".rexl",
   "mimetype": "text/x-rexl",
   "name": "Rexl",
   "pygments_lexer": "rexl",
   "version": "1.0"
  }
 },
 "nbformat": 4,
 "nbformat_minor": 5
}
